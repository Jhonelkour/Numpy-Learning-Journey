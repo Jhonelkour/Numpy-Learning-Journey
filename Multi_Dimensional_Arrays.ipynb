{
 "cells": [
  {
   "cell_type": "markdown",
   "id": "4985bbb9",
   "metadata": {},
   "source": [
    "#### Multi-Dimensional Arrays"
   ]
  },
  {
   "cell_type": "markdown",
   "id": "a0ab63e3",
   "metadata": {},
   "source": [
    "##### Multi-dimensional arrays are structured collections of data organized in multiple dimensions, such as rows and columns in a matrix, enabling efficient storage and manipulation of complex data."
   ]
  },
  {
   "cell_type": "code",
   "execution_count": 47,
   "id": "fb0754e7",
   "metadata": {},
   "outputs": [],
   "source": [
    "import numpy as np "
   ]
  },
  {
   "cell_type": "code",
   "execution_count": 48,
   "id": "f1d59c57",
   "metadata": {},
   "outputs": [
    {
     "data": {
      "text/plain": [
       "array([[ 0,  1,  2,  3],\n",
       "       [10, 11, 12, 13]])"
      ]
     },
     "execution_count": 48,
     "metadata": {},
     "output_type": "execute_result"
    }
   ],
   "source": [
    "a = np.array([[0,1,2,3],[10,11,12,13]])\n",
    "a"
   ]
  },
  {
   "cell_type": "code",
   "execution_count": 49,
   "id": "049c6390",
   "metadata": {},
   "outputs": [
    {
     "data": {
      "text/plain": [
       "(2, 4)"
      ]
     },
     "execution_count": 49,
     "metadata": {},
     "output_type": "execute_result"
    }
   ],
   "source": [
    "# a.shape returns (2, 4), which means:\n",
    "# - The array has 2 rows\n",
    "# - Each row contains 4 columns\n",
    "# In other words, it's a 2D array with dimensions 2x4.\n",
    "a.shape"
   ]
  },
  {
   "cell_type": "code",
   "execution_count": 50,
   "id": "943dfcd9",
   "metadata": {},
   "outputs": [
    {
     "data": {
      "text/plain": [
       "8"
      ]
     },
     "execution_count": 50,
     "metadata": {},
     "output_type": "execute_result"
    }
   ],
   "source": [
    "# a.size returns 8, which is the total number of elements in the array.\n",
    "# It's calculated as the product of the number of rows and columns: 2 * 4 = 8.\n",
    "a.size"
   ]
  },
  {
   "cell_type": "code",
   "execution_count": 51,
   "id": "3217c410",
   "metadata": {},
   "outputs": [
    {
     "data": {
      "text/plain": [
       "2"
      ]
     },
     "execution_count": 51,
     "metadata": {},
     "output_type": "execute_result"
    }
   ],
   "source": [
    "# a.ndim returns 2, meaning the array is two-dimensional (2D).\n",
    "# It has both rows and columns.\n",
    "a.ndim"
   ]
  },
  {
   "cell_type": "markdown",
   "id": "8b788f6b",
   "metadata": {},
   "source": [
    "### Indexing And Slicing "
   ]
  },
  {
   "cell_type": "markdown",
   "id": "adeb7bc8",
   "metadata": {},
   "source": [
    "#### Get / Set Element"
   ]
  },
  {
   "cell_type": "markdown",
   "id": "0d5dcb3c",
   "metadata": {},
   "source": [
    "##### For example:\n",
    "##### - Getting: a[1, 3] → returns the current value at that position.\n",
    "##### - Setting: a[1, 3] = -1 → updates the value at that position to -1."
   ]
  },
  {
   "cell_type": "code",
   "execution_count": 52,
   "id": "855f633b",
   "metadata": {},
   "outputs": [
    {
     "data": {
      "text/plain": [
       "13"
      ]
     },
     "execution_count": 52,
     "metadata": {},
     "output_type": "execute_result"
    }
   ],
   "source": [
    "# a[1, 3] returns 13.\n",
    "# This accesses the element at row index 1 (second row) and column index 3 (fourth column).\n",
    "# So it's the element in the second row and fourth column of the array.\n",
    "a[1, 3]"
   ]
  },
  {
   "cell_type": "code",
   "execution_count": 53,
   "id": "dcfd7baf",
   "metadata": {},
   "outputs": [],
   "source": [
    "# a[1, 3] = -1\n",
    "# This sets the element at row index 1 (second row), column index 3 (fourth column) to -1.\n",
    "# You can use this same indexing format to get or update a specific element in the array.\n",
    "a[1,3] = -1 "
   ]
  },
  {
   "cell_type": "code",
   "execution_count": 54,
   "id": "3e335eda",
   "metadata": {},
   "outputs": [
    {
     "data": {
      "text/plain": [
       "array([10, 11, 12, -1])"
      ]
     },
     "execution_count": 54,
     "metadata": {},
     "output_type": "execute_result"
    }
   ],
   "source": [
    "# a[1] returns the entire second row of the array.\n",
    "# Since indexing starts at 0, a[1] refers to row index 1 (the second row).\n",
    "# For example, if a = [[0, 1, 2, 3], [10, 11, 12, 13]], then a[1] returns [10, 11, 12, 13].\n",
    "a[1]"
   ]
  },
  {
   "cell_type": "code",
   "execution_count": 55,
   "id": "e03e06fb",
   "metadata": {},
   "outputs": [
    {
     "data": {
      "text/plain": [
       "array([ 1, 11])"
      ]
     },
     "execution_count": 55,
     "metadata": {},
     "output_type": "execute_result"
    }
   ],
   "source": [
    "a[:,1]"
   ]
  },
  {
   "cell_type": "markdown",
   "id": "224b3864",
   "metadata": {},
   "source": [
    "#### Slicing  var[start : stop : step]\n",
    "\n",
    "##### Slicing is a technique used to extract specific portions of an array by specifying start, stop, and step indices for rows, columns, or both, allowing efficient access to subarrays without copying data."
   ]
  },
  {
   "cell_type": "code",
   "execution_count": 56,
   "id": "85985a57",
   "metadata": {},
   "outputs": [],
   "source": [
    "#             -5,-4,-3,-2,-1\n",
    "#indices       0, 1, 2, 3, 4\n",
    "\n",
    "a = np.array([10,11,12,13,14])"
   ]
  },
  {
   "cell_type": "markdown",
   "id": "f9caedb3",
   "metadata": {},
   "source": [
    "#### Slicing Arrays"
   ]
  },
  {
   "cell_type": "code",
   "execution_count": 57,
   "id": "c55257c8",
   "metadata": {},
   "outputs": [
    {
     "data": {
      "text/plain": [
       "array([11, 12])"
      ]
     },
     "execution_count": 57,
     "metadata": {},
     "output_type": "execute_result"
    }
   ],
   "source": [
    "# return only 11 12\n",
    "\n",
    "a[1:3]"
   ]
  },
  {
   "cell_type": "code",
   "execution_count": 58,
   "id": "ae6dceca",
   "metadata": {},
   "outputs": [
    {
     "data": {
      "text/plain": [
       "array([11, 12])"
      ]
     },
     "execution_count": 58,
     "metadata": {},
     "output_type": "execute_result"
    }
   ],
   "source": [
    "# negative indices work also \n",
    "\n",
    "# a[1:-2] returns [11, 12]\n",
    "# - The starting index '1' refers to the element at index 1, which is 11.\n",
    "# - The '-2' index means \"up to but not including the second-to-last element\" (which is 13).\n",
    "# This effectively slices the array to get elements from index 1 to index 2, resulting in [11, 12].\n",
    "\n",
    "\n",
    "a[1:-2]"
   ]
  },
  {
   "cell_type": "code",
   "execution_count": 59,
   "id": "ef511882",
   "metadata": {},
   "outputs": [
    {
     "data": {
      "text/plain": [
       "array([11, 12])"
      ]
     },
     "execution_count": 59,
     "metadata": {},
     "output_type": "execute_result"
    }
   ],
   "source": [
    "# a[-4:3] slices the array from the fourth-to-last element (-4) to index 3 (inclusive).\n",
    "# While it works, it's generally not recommended because:\n",
    "# - Using negative indices with positive indices can lead to confusion.\n",
    "# - It's harder to read and understand, especially for others or when revisiting the code later.\n",
    "# As Alex Chabot-Leclerc advises: \"Be kind and don't do that!\" \n",
    "# It's better to stick to clear, straightforward indexing for readability and maintainability.\n",
    "a[-4:3] "
   ]
  },
  {
   "cell_type": "markdown",
   "id": "5e856f22",
   "metadata": {},
   "source": [
    "#### Omitting indices in slicing means the boundaries are assumed to be the beginning or end of the array.\n"
   ]
  },
  {
   "cell_type": "code",
   "execution_count": 60,
   "id": "1650a90d",
   "metadata": {},
   "outputs": [
    {
     "data": {
      "text/plain": [
       "array([10, 11, 12])"
      ]
     },
     "execution_count": 60,
     "metadata": {},
     "output_type": "execute_result"
    }
   ],
   "source": [
    "# Grab the first 3 elements \n",
    "a[:3]"
   ]
  },
  {
   "cell_type": "code",
   "execution_count": 61,
   "id": "66fdd505",
   "metadata": {},
   "outputs": [
    {
     "data": {
      "text/plain": [
       "array([13, 14])"
      ]
     },
     "execution_count": 61,
     "metadata": {},
     "output_type": "execute_result"
    }
   ],
   "source": [
    "# grab the last 2 elements \n",
    "a[-2:]"
   ]
  },
  {
   "cell_type": "code",
   "execution_count": 62,
   "id": "1ef31ab6",
   "metadata": {},
   "outputs": [
    {
     "data": {
      "text/plain": [
       "array([10, 12, 14])"
      ]
     },
     "execution_count": 62,
     "metadata": {},
     "output_type": "execute_result"
    }
   ],
   "source": [
    "# - start and stop are omitted, so it starts from the beginning and goes to the end.\n",
    "# - step is 2, meaning it takes every second element.\n",
    "# Example: if a = np.array([10, 11, 12, 13, 14]), then a[::2] returns [10, 12, 14].\n",
    "a[::2]"
   ]
  },
  {
   "cell_type": "markdown",
   "id": "618f56bc",
   "metadata": {},
   "source": [
    "#### Practice Slicing "
   ]
  },
  {
   "cell_type": "code",
   "execution_count": 63,
   "id": "989ed0cc",
   "metadata": {},
   "outputs": [
    {
     "data": {
      "text/plain": [
       "array([[ 0,  1,  2,  3,  4,  5],\n",
       "       [10, 11, 12, 13, 14, 15],\n",
       "       [20, 21, 22, 23, 24, 25],\n",
       "       [30, 31, 32, 33, 34, 35],\n",
       "       [40, 41, 42, 43, 44, 45],\n",
       "       [50, 51, 52, 53, 54, 55]])"
      ]
     },
     "execution_count": 63,
     "metadata": {},
     "output_type": "execute_result"
    }
   ],
   "source": [
    "arr = np.array([\n",
    "    [0, 1, 2, 3, 4, 5],\n",
    "    [10, 11, 12, 13, 14, 15],\n",
    "    [20, 21, 22, 23, 24, 25],\n",
    "    [30, 31, 32, 33, 34, 35],\n",
    "    [40, 41, 42, 43, 44, 45],\n",
    "    [50, 51, 52, 53, 54, 55]\n",
    "])\n",
    "arr"
   ]
  },
  {
   "cell_type": "markdown",
   "id": "2b2b7d21",
   "metadata": {},
   "source": [
    "##### Using slicing, how can you extract only the elements 3 and 4 from the array?"
   ]
  },
  {
   "cell_type": "code",
   "execution_count": 64,
   "id": "40ec5117",
   "metadata": {},
   "outputs": [
    {
     "data": {
      "text/plain": [
       "array([3, 4])"
      ]
     },
     "execution_count": 64,
     "metadata": {},
     "output_type": "execute_result"
    }
   ],
   "source": [
    "arr[0, 3:5]"
   ]
  },
  {
   "cell_type": "markdown",
   "id": "e22ecc2b",
   "metadata": {},
   "source": [
    "#### Using slicing, how can you extract the following subarray? The expected result is:  array([[44, 45],[54, 55]])\n",
    "\n",
    "\n"
   ]
  },
  {
   "cell_type": "code",
   "execution_count": 65,
   "id": "e08776d7",
   "metadata": {},
   "outputs": [
    {
     "data": {
      "text/plain": [
       "array([[44, 45],\n",
       "       [54, 55]])"
      ]
     },
     "execution_count": 65,
     "metadata": {},
     "output_type": "execute_result"
    }
   ],
   "source": [
    "arr[4: , 4:] "
   ]
  },
  {
   "cell_type": "markdown",
   "id": "5985c700",
   "metadata": {},
   "source": [
    "#### Extract all the values from the third column The expected result is : array([ 2, 12, 22, 32, 42, 52])"
   ]
  },
  {
   "cell_type": "code",
   "execution_count": 66,
   "id": "73a304e8",
   "metadata": {},
   "outputs": [
    {
     "data": {
      "text/plain": [
       "array([ 2, 12, 22, 32, 42, 52])"
      ]
     },
     "execution_count": 66,
     "metadata": {},
     "output_type": "execute_result"
    }
   ],
   "source": [
    "arr[:, 2]"
   ]
  },
  {
   "cell_type": "markdown",
   "id": "686d81a4",
   "metadata": {},
   "source": [
    "#### Using slicing, extract the even-indexed columns from rows 2 and 4 only. The expected result is: array([[20, 22, 24] [40, 42, 44]])\n",
    "\n"
   ]
  },
  {
   "cell_type": "code",
   "execution_count": 67,
   "id": "867bf81a",
   "metadata": {},
   "outputs": [
    {
     "data": {
      "text/plain": [
       "array([[ 0,  1,  2,  3,  4,  5],\n",
       "       [10, 11, 12, 13, 14, 15],\n",
       "       [20, 21, 22, 23, 24, 25],\n",
       "       [30, 31, 32, 33, 34, 35],\n",
       "       [40, 41, 42, 43, 44, 45],\n",
       "       [50, 51, 52, 53, 54, 55]])"
      ]
     },
     "execution_count": 67,
     "metadata": {},
     "output_type": "execute_result"
    }
   ],
   "source": [
    "arr"
   ]
  },
  {
   "cell_type": "code",
   "execution_count": 68,
   "id": "c17adad7",
   "metadata": {},
   "outputs": [
    {
     "data": {
      "text/plain": [
       "array([[20, 22, 24],\n",
       "       [40, 42, 44]])"
      ]
     },
     "execution_count": 68,
     "metadata": {},
     "output_type": "execute_result"
    }
   ],
   "source": [
    "arr[2:5:2,::2]"
   ]
  }
 ],
 "metadata": {
  "kernelspec": {
   "display_name": "Python 3",
   "language": "python",
   "name": "python3"
  },
  "language_info": {
   "codemirror_mode": {
    "name": "ipython",
    "version": 3
   },
   "file_extension": ".py",
   "mimetype": "text/x-python",
   "name": "python",
   "nbconvert_exporter": "python",
   "pygments_lexer": "ipython3",
   "version": "3.11.5"
  }
 },
 "nbformat": 4,
 "nbformat_minor": 5
}
