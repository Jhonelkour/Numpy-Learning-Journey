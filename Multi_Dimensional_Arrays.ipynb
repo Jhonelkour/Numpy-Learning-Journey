{
 "cells": [
  {
   "cell_type": "markdown",
   "id": "4985bbb9",
   "metadata": {},
   "source": [
    "#### Multi-Dimensional Arrays"
   ]
  },
  {
   "cell_type": "markdown",
   "id": "a0ab63e3",
   "metadata": {},
   "source": [
    "##### Multi-dimensional arrays are structured collections of data organized in multiple dimensions, such as rows and columns in a matrix, enabling efficient storage and manipulation of complex data."
   ]
  },
  {
   "cell_type": "code",
   "execution_count": 1,
   "id": "fb0754e7",
   "metadata": {},
   "outputs": [],
   "source": [
    "import numpy as np \n",
    "from IPython.display import Image"
   ]
  },
  {
   "cell_type": "code",
   "execution_count": 2,
   "id": "f1d59c57",
   "metadata": {},
   "outputs": [
    {
     "data": {
      "text/plain": [
       "array([[ 0,  1,  2,  3],\n",
       "       [10, 11, 12, 13]])"
      ]
     },
     "execution_count": 2,
     "metadata": {},
     "output_type": "execute_result"
    }
   ],
   "source": [
    "a = np.array([[0,1,2,3],[10,11,12,13]])\n",
    "a"
   ]
  },
  {
   "cell_type": "code",
   "execution_count": 3,
   "id": "049c6390",
   "metadata": {},
   "outputs": [
    {
     "data": {
      "text/plain": [
       "(2, 4)"
      ]
     },
     "execution_count": 3,
     "metadata": {},
     "output_type": "execute_result"
    }
   ],
   "source": [
    "# a.shape returns (2, 4), which means:\n",
    "# - The array has 2 rows\n",
    "# - Each row contains 4 columns\n",
    "# In other words, it's a 2D array with dimensions 2x4.\n",
    "a.shape"
   ]
  },
  {
   "cell_type": "code",
   "execution_count": 4,
   "id": "943dfcd9",
   "metadata": {},
   "outputs": [
    {
     "data": {
      "text/plain": [
       "8"
      ]
     },
     "execution_count": 4,
     "metadata": {},
     "output_type": "execute_result"
    }
   ],
   "source": [
    "# a.size returns 8, which is the total number of elements in the array.\n",
    "# It's calculated as the product of the number of rows and columns: 2 * 4 = 8.\n",
    "a.size"
   ]
  },
  {
   "cell_type": "code",
   "execution_count": 5,
   "id": "3217c410",
   "metadata": {},
   "outputs": [
    {
     "data": {
      "text/plain": [
       "2"
      ]
     },
     "execution_count": 5,
     "metadata": {},
     "output_type": "execute_result"
    }
   ],
   "source": [
    "# a.ndim returns 2, meaning the array is two-dimensional (2D).\n",
    "# It has both rows and columns.\n",
    "a.ndim"
   ]
  },
  {
   "cell_type": "markdown",
   "id": "8b788f6b",
   "metadata": {},
   "source": [
    "### Indexing And Slicing "
   ]
  },
  {
   "cell_type": "markdown",
   "id": "adeb7bc8",
   "metadata": {},
   "source": [
    "#### Get / Set Element"
   ]
  },
  {
   "cell_type": "markdown",
   "id": "0d5dcb3c",
   "metadata": {},
   "source": [
    "##### For example:\n",
    "##### - Getting: a[1, 3] → returns the current value at that position.\n",
    "##### - Setting: a[1, 3] = -1 → updates the value at that position to -1."
   ]
  },
  {
   "cell_type": "code",
   "execution_count": 6,
   "id": "855f633b",
   "metadata": {},
   "outputs": [
    {
     "data": {
      "text/plain": [
       "13"
      ]
     },
     "execution_count": 6,
     "metadata": {},
     "output_type": "execute_result"
    }
   ],
   "source": [
    "# a[1, 3] returns 13.\n",
    "# This accesses the element at row index 1 (second row) and column index 3 (fourth column).\n",
    "# So it's the element in the second row and fourth column of the array.\n",
    "a[1, 3]"
   ]
  },
  {
   "cell_type": "code",
   "execution_count": 7,
   "id": "dcfd7baf",
   "metadata": {},
   "outputs": [],
   "source": [
    "# a[1, 3] = -1\n",
    "# This sets the element at row index 1 (second row), column index 3 (fourth column) to -1.\n",
    "# You can use this same indexing format to get or update a specific element in the array.\n",
    "a[1,3] = -1 "
   ]
  },
  {
   "cell_type": "code",
   "execution_count": 8,
   "id": "3e335eda",
   "metadata": {},
   "outputs": [
    {
     "data": {
      "text/plain": [
       "array([10, 11, 12, -1])"
      ]
     },
     "execution_count": 8,
     "metadata": {},
     "output_type": "execute_result"
    }
   ],
   "source": [
    "# a[1] returns the entire second row of the array.\n",
    "# Since indexing starts at 0, a[1] refers to row index 1 (the second row).\n",
    "# For example, if a = [[0, 1, 2, 3], [10, 11, 12, 13]], then a[1] returns [10, 11, 12, 13].\n",
    "a[1]"
   ]
  },
  {
   "cell_type": "code",
   "execution_count": 9,
   "id": "e03e06fb",
   "metadata": {},
   "outputs": [
    {
     "data": {
      "text/plain": [
       "array([ 1, 11])"
      ]
     },
     "execution_count": 9,
     "metadata": {},
     "output_type": "execute_result"
    }
   ],
   "source": [
    "a[:,1]"
   ]
  },
  {
   "cell_type": "markdown",
   "id": "224b3864",
   "metadata": {},
   "source": [
    "#### Slicing  var[start : stop : step]\n",
    "\n",
    "##### Slicing is a technique used to extract specific portions of an array by specifying start, stop, and step indices for rows, columns, or both, allowing efficient access to subarrays without copying data."
   ]
  },
  {
   "cell_type": "code",
   "execution_count": 10,
   "id": "85985a57",
   "metadata": {},
   "outputs": [],
   "source": [
    "#             -5,-4,-3,-2,-1\n",
    "#indices       0, 1, 2, 3, 4\n",
    "\n",
    "a = np.array([10,11,12,13,14])"
   ]
  },
  {
   "cell_type": "markdown",
   "id": "f9caedb3",
   "metadata": {},
   "source": [
    "#### Slicing Arrays"
   ]
  },
  {
   "cell_type": "code",
   "execution_count": 11,
   "id": "c55257c8",
   "metadata": {},
   "outputs": [
    {
     "data": {
      "text/plain": [
       "array([11, 12])"
      ]
     },
     "execution_count": 11,
     "metadata": {},
     "output_type": "execute_result"
    }
   ],
   "source": [
    "# return only 11 12\n",
    "\n",
    "a[1:3]"
   ]
  },
  {
   "cell_type": "code",
   "execution_count": 12,
   "id": "ae6dceca",
   "metadata": {},
   "outputs": [
    {
     "data": {
      "text/plain": [
       "array([11, 12])"
      ]
     },
     "execution_count": 12,
     "metadata": {},
     "output_type": "execute_result"
    }
   ],
   "source": [
    "# negative indices work also \n",
    "\n",
    "# a[1:-2] returns [11, 12]\n",
    "# - The starting index '1' refers to the element at index 1, which is 11.\n",
    "# - The '-2' index means \"up to but not including the second-to-last element\" (which is 13).\n",
    "# This effectively slices the array to get elements from index 1 to index 2, resulting in [11, 12].\n",
    "\n",
    "\n",
    "a[1:-2]"
   ]
  },
  {
   "cell_type": "code",
   "execution_count": 13,
   "id": "ef511882",
   "metadata": {},
   "outputs": [
    {
     "data": {
      "text/plain": [
       "array([11, 12])"
      ]
     },
     "execution_count": 13,
     "metadata": {},
     "output_type": "execute_result"
    }
   ],
   "source": [
    "# a[-4:3] slices the array from the fourth-to-last element (-4) to index 3 (inclusive).\n",
    "# While it works, it's generally not recommended because:\n",
    "# - Using negative indices with positive indices can lead to confusion.\n",
    "# - It's harder to read and understand, especially for others or when revisiting the code later.\n",
    "# As Alex Chabot-Leclerc advises: \"Be kind and don't do that!\" \n",
    "# It's better to stick to clear, straightforward indexing for readability and maintainability.\n",
    "a[-4:3] "
   ]
  },
  {
   "cell_type": "markdown",
   "id": "5e856f22",
   "metadata": {},
   "source": [
    "#### Omitting indices in slicing means the boundaries are assumed to be the beginning or end of the array.\n"
   ]
  },
  {
   "cell_type": "code",
   "execution_count": 14,
   "id": "1650a90d",
   "metadata": {},
   "outputs": [
    {
     "data": {
      "text/plain": [
       "array([10, 11, 12])"
      ]
     },
     "execution_count": 14,
     "metadata": {},
     "output_type": "execute_result"
    }
   ],
   "source": [
    "# Grab the first 3 elements \n",
    "a[:3]"
   ]
  },
  {
   "cell_type": "code",
   "execution_count": 15,
   "id": "66fdd505",
   "metadata": {},
   "outputs": [
    {
     "data": {
      "text/plain": [
       "array([13, 14])"
      ]
     },
     "execution_count": 15,
     "metadata": {},
     "output_type": "execute_result"
    }
   ],
   "source": [
    "# grab the last 2 elements \n",
    "a[-2:]"
   ]
  },
  {
   "cell_type": "code",
   "execution_count": 16,
   "id": "1ef31ab6",
   "metadata": {},
   "outputs": [
    {
     "data": {
      "text/plain": [
       "array([10, 12, 14])"
      ]
     },
     "execution_count": 16,
     "metadata": {},
     "output_type": "execute_result"
    }
   ],
   "source": [
    "# - start and stop are omitted, so it starts from the beginning and goes to the end.\n",
    "# - step is 2, meaning it takes every second element.\n",
    "# Example: if a = np.array([10, 11, 12, 13, 14]), then a[::2] returns [10, 12, 14].\n",
    "a[::2]"
   ]
  },
  {
   "cell_type": "markdown",
   "id": "618f56bc",
   "metadata": {},
   "source": [
    "#### Practice Slicing "
   ]
  },
  {
   "cell_type": "code",
   "execution_count": 17,
   "id": "989ed0cc",
   "metadata": {},
   "outputs": [
    {
     "data": {
      "text/plain": [
       "array([[ 0,  1,  2,  3,  4,  5],\n",
       "       [10, 11, 12, 13, 14, 15],\n",
       "       [20, 21, 22, 23, 24, 25],\n",
       "       [30, 31, 32, 33, 34, 35],\n",
       "       [40, 41, 42, 43, 44, 45],\n",
       "       [50, 51, 52, 53, 54, 55]])"
      ]
     },
     "execution_count": 17,
     "metadata": {},
     "output_type": "execute_result"
    }
   ],
   "source": [
    "arr = np.array([\n",
    "    [0, 1, 2, 3, 4, 5],\n",
    "    [10, 11, 12, 13, 14, 15],\n",
    "    [20, 21, 22, 23, 24, 25],\n",
    "    [30, 31, 32, 33, 34, 35],\n",
    "    [40, 41, 42, 43, 44, 45],\n",
    "    [50, 51, 52, 53, 54, 55]\n",
    "])\n",
    "arr"
   ]
  },
  {
   "cell_type": "markdown",
   "id": "2b2b7d21",
   "metadata": {},
   "source": [
    "##### Using slicing, how can you extract only the elements 3 and 4 from the array?"
   ]
  },
  {
   "cell_type": "code",
   "execution_count": 18,
   "id": "40ec5117",
   "metadata": {},
   "outputs": [
    {
     "data": {
      "text/plain": [
       "array([3, 4])"
      ]
     },
     "execution_count": 18,
     "metadata": {},
     "output_type": "execute_result"
    }
   ],
   "source": [
    "arr[0, 3:5]"
   ]
  },
  {
   "cell_type": "code",
   "execution_count": 19,
   "id": "a87b396b",
   "metadata": {},
   "outputs": [
    {
     "data": {
      "image/png": "[encoded data removed]",
      "text/plain": [
       "<IPython.core.display.Image object>"
      ]
     },
     "execution_count": 19,
     "metadata": {},
     "output_type": "execute_result"
    }
   ],
   "source": [
    "Image(filename='./Image/Exercice.PNG')\n"
   ]
  },
  {
   "cell_type": "markdown",
   "id": "e22ecc2b",
   "metadata": {},
   "source": [
    "#### Using slicing, how can you extract the following subarray? The expected result is:  array([[44, 45],[54, 55]])\n",
    "\n",
    "\n"
   ]
  },
  {
   "cell_type": "code",
   "execution_count": 20,
   "id": "e08776d7",
   "metadata": {},
   "outputs": [
    {
     "data": {
      "text/plain": [
       "array([[44, 45],\n",
       "       [54, 55]])"
      ]
     },
     "execution_count": 20,
     "metadata": {},
     "output_type": "execute_result"
    }
   ],
   "source": [
    "arr[4: , 4:] "
   ]
  },
  {
   "cell_type": "markdown",
   "id": "5985c700",
   "metadata": {},
   "source": [
    "#### Extract all the values from the third column The expected result is : array([ 2, 12, 22, 32, 42, 52])"
   ]
  },
  {
   "cell_type": "code",
   "execution_count": 21,
   "id": "73a304e8",
   "metadata": {},
   "outputs": [
    {
     "data": {
      "text/plain": [
       "array([ 2, 12, 22, 32, 42, 52])"
      ]
     },
     "execution_count": 21,
     "metadata": {},
     "output_type": "execute_result"
    }
   ],
   "source": [
    "arr[:, 2]"
   ]
  },
  {
   "cell_type": "markdown",
   "id": "686d81a4",
   "metadata": {},
   "source": [
    "#### Using slicing, extract the even-indexed columns from rows 2 and 4 only. The expected result is: array([[20, 22, 24],[40, 42, 44]])\n",
    "\n"
   ]
  },
  {
   "cell_type": "code",
   "execution_count": 22,
   "id": "867bf81a",
   "metadata": {},
   "outputs": [
    {
     "data": {
      "text/plain": [
       "array([[ 0,  1,  2,  3,  4,  5],\n",
       "       [10, 11, 12, 13, 14, 15],\n",
       "       [20, 21, 22, 23, 24, 25],\n",
       "       [30, 31, 32, 33, 34, 35],\n",
       "       [40, 41, 42, 43, 44, 45],\n",
       "       [50, 51, 52, 53, 54, 55]])"
      ]
     },
     "execution_count": 22,
     "metadata": {},
     "output_type": "execute_result"
    }
   ],
   "source": [
    "arr"
   ]
  },
  {
   "cell_type": "code",
   "execution_count": 23,
   "id": "c17adad7",
   "metadata": {},
   "outputs": [
    {
     "data": {
      "text/plain": [
       "array([[20, 22, 24],\n",
       "       [40, 42, 44]])"
      ]
     },
     "execution_count": 23,
     "metadata": {},
     "output_type": "execute_result"
    }
   ],
   "source": [
    "arr[2:5:2,::2]"
   ]
  },
  {
   "cell_type": "markdown",
   "id": "0a5d4a4e",
   "metadata": {},
   "source": [
    "#### Give it try "
   ]
  },
  {
   "cell_type": "code",
   "execution_count": 24,
   "id": "7b408a0a",
   "metadata": {},
   "outputs": [
    {
     "data": {
      "text/plain": [
       "array([[ 0,  1,  2,  3,  4],\n",
       "       [ 5,  6,  7,  8,  9],\n",
       "       [10, 11, 12, 13, 14],\n",
       "       [15, 16, 17, 18, 19],\n",
       "       [20, 21, 22, 23, 24]])"
      ]
     },
     "execution_count": 24,
     "metadata": {},
     "output_type": "execute_result"
    }
   ],
   "source": [
    "a = np.arange(25).reshape(5,5)\n",
    "a"
   ]
  },
  {
   "cell_type": "code",
   "execution_count": 25,
   "id": "b5bdaf44",
   "metadata": {},
   "outputs": [
    {
     "data": {
      "image/png": "[encoded data removed]",
      "text/plain": [
       "<IPython.core.display.Image object>"
      ]
     },
     "execution_count": 25,
     "metadata": {},
     "output_type": "execute_result"
    }
   ],
   "source": [
    "Image(filename='./Image/Exercice_numpy.PNG')\n"
   ]
  },
  {
   "cell_type": "markdown",
   "id": "8904a637",
   "metadata": {},
   "source": [
    "##### Red"
   ]
  },
  {
   "cell_type": "code",
   "execution_count": 26,
   "id": "fd883531",
   "metadata": {},
   "outputs": [
    {
     "data": {
      "text/plain": [
       "array([[ 1,  3],\n",
       "       [ 6,  8],\n",
       "       [11, 13],\n",
       "       [16, 18],\n",
       "       [21, 23]])"
      ]
     },
     "execution_count": 26,
     "metadata": {},
     "output_type": "execute_result"
    }
   ],
   "source": [
    "a[:, 1::2]"
   ]
  },
  {
   "cell_type": "markdown",
   "id": "dc431a6f",
   "metadata": {},
   "source": [
    "##### Blue"
   ]
  },
  {
   "cell_type": "code",
   "execution_count": 27,
   "id": "b78fccfa",
   "metadata": {},
   "outputs": [
    {
     "data": {
      "text/plain": [
       "array([[ 5,  7],\n",
       "       [15, 17]])"
      ]
     },
     "execution_count": 27,
     "metadata": {},
     "output_type": "execute_result"
    }
   ],
   "source": [
    "a[1::2, :3:2]"
   ]
  },
  {
   "cell_type": "markdown",
   "id": "65fef0f5",
   "metadata": {},
   "source": [
    "##### Yellow "
   ]
  },
  {
   "cell_type": "code",
   "execution_count": 28,
   "id": "8c6cf678",
   "metadata": {},
   "outputs": [
    {
     "data": {
      "text/plain": [
       "array([20, 21, 22, 23, 24])"
      ]
     },
     "execution_count": 28,
     "metadata": {},
     "output_type": "execute_result"
    }
   ],
   "source": [
    "a[-1,:]\n",
    "# Or\n",
    "# a[4, :]\n",
    "# Or\n",
    "# a[4]\n",
    "\n"
   ]
  },
  {
   "cell_type": "markdown",
   "id": "c2905690",
   "metadata": {},
   "source": [
    "#### NumPy Array Slicing and Views\n",
    "\n",
    "##### In NumPy, slicing an array (like `b = a[:2]`) does not create a new, independent array.\n",
    "#####  Instead, it creates a **view** of the original array `a`.\n",
    "\n",
    "##### Shared Data Behavior\n",
    "\n",
    "#####  This means that `b` shares the same underlying data as `a`.\n",
    "#####  So, when you modify `b[0] = -1`, it directly affects `a` as well.\n",
    "\n",
    "##### Demonstration\n",
    "\n",
    "##### - `a = np.array([1,2,3,4])`\n",
    "#####  - `b = a[:2]` → b is a view of the first two elements of `a`\n",
    "##### - `b[0] = -1` → modifies `a[0]` as well\n",
    "\n",
    "##### Result\n",
    "\n",
    "##### When you print `a`, you’ll see the first element changed to `-1`.\n",
    "#####  This is because `b` and `a` share memory.\n",
    "\n",
    "##### Tip\n",
    "\n",
    "#####  If you want an independent copy instead of a view, use `.copy()`: \n",
    "##### `b = a[:2].copy()`\n"
   ]
  },
  {
   "cell_type": "code",
   "execution_count": 29,
   "id": "f66a17bc",
   "metadata": {},
   "outputs": [
    {
     "data": {
      "text/plain": [
       "array([1, 2, 3, 4])"
      ]
     },
     "execution_count": 29,
     "metadata": {},
     "output_type": "execute_result"
    }
   ],
   "source": [
    "a = np.array([1,2,3,4])\n",
    "a"
   ]
  },
  {
   "cell_type": "code",
   "execution_count": 30,
   "id": "c20f29c1",
   "metadata": {},
   "outputs": [],
   "source": [
    "b = a[:2]"
   ]
  },
  {
   "cell_type": "code",
   "execution_count": 31,
   "id": "41fe6509",
   "metadata": {},
   "outputs": [
    {
     "data": {
      "text/plain": [
       "array([1, 2])"
      ]
     },
     "execution_count": 31,
     "metadata": {},
     "output_type": "execute_result"
    }
   ],
   "source": [
    "b"
   ]
  },
  {
   "cell_type": "code",
   "execution_count": 32,
   "id": "449fa2eb",
   "metadata": {},
   "outputs": [
    {
     "data": {
      "text/plain": [
       "1"
      ]
     },
     "execution_count": 32,
     "metadata": {},
     "output_type": "execute_result"
    }
   ],
   "source": [
    "b[0]"
   ]
  },
  {
   "cell_type": "code",
   "execution_count": 33,
   "id": "133f3e1c",
   "metadata": {},
   "outputs": [],
   "source": [
    "b[0]= -1"
   ]
  },
  {
   "cell_type": "code",
   "execution_count": 34,
   "id": "12f5eab4",
   "metadata": {},
   "outputs": [
    {
     "data": {
      "text/plain": [
       "array([-1,  2])"
      ]
     },
     "execution_count": 34,
     "metadata": {},
     "output_type": "execute_result"
    }
   ],
   "source": [
    "b"
   ]
  },
  {
   "cell_type": "code",
   "execution_count": 35,
   "id": "9a84cf5b",
   "metadata": {},
   "outputs": [
    {
     "data": {
      "text/plain": [
       "array([-1,  2,  3,  4])"
      ]
     },
     "execution_count": 35,
     "metadata": {},
     "output_type": "execute_result"
    }
   ],
   "source": [
    "a"
   ]
  },
  {
   "cell_type": "markdown",
   "id": "9c1e1609",
   "metadata": {},
   "source": [
    "#### Slices are References \n",
    "##### Slices are references to locations in memory These memory locations can be used in assignment operations "
   ]
  },
  {
   "cell_type": "code",
   "execution_count": 36,
   "id": "e5de3129",
   "metadata": {},
   "outputs": [],
   "source": [
    "a = np.array([0,1,2,3,4])\n",
    "# Slicing the last two elements returns the data there"
   ]
  },
  {
   "cell_type": "code",
   "execution_count": 37,
   "id": "424a1d6e",
   "metadata": {},
   "outputs": [
    {
     "data": {
      "text/plain": [
       "array([3, 4])"
      ]
     },
     "execution_count": 37,
     "metadata": {},
     "output_type": "execute_result"
    }
   ],
   "source": [
    "a[-2:]"
   ]
  },
  {
   "cell_type": "code",
   "execution_count": 38,
   "id": "df30f66e",
   "metadata": {},
   "outputs": [
    {
     "data": {
      "text/plain": [
       "array([ 0,  1,  2, -1, -2])"
      ]
     },
     "execution_count": 38,
     "metadata": {},
     "output_type": "execute_result"
    }
   ],
   "source": [
    "# we can insert an iterable of length two \n",
    "a[-2:] = [-1, -2]\n",
    "a"
   ]
  },
  {
   "cell_type": "code",
   "execution_count": 39,
   "id": "6d6d4b05",
   "metadata": {},
   "outputs": [
    {
     "data": {
      "text/plain": [
       "array([ 0,  1,  2, 99, 99])"
      ]
     },
     "execution_count": 39,
     "metadata": {},
     "output_type": "execute_result"
    }
   ],
   "source": [
    "a[-2:] = 99\n",
    "a"
   ]
  },
  {
   "cell_type": "code",
   "execution_count": 40,
   "id": "3220314f",
   "metadata": {},
   "outputs": [
    {
     "data": {
      "text/plain": [
       "0"
      ]
     },
     "execution_count": 40,
     "metadata": {},
     "output_type": "execute_result"
    }
   ],
   "source": [
    "##### Accessing Elements with `__getitem__` (Not Recommended in Practice)\n",
    "\n",
    "# `a.__getitem__(0)` is the internal method NumPy uses to access the element at index 0.\n",
    "# It returns the same result as `a[0]`, but it’s a **low-level** and more verbose approach.\n",
    "\n",
    "##### Better Alternative: Use Bracket Notation\n",
    "\n",
    "#  Recommended: `a[0]`\n",
    "#  Not Recommended: `a.__getitem__(0)`\n",
    "\n",
    "a.__getitem__(0) "
   ]
  },
  {
   "cell_type": "code",
   "execution_count": 41,
   "id": "34902615",
   "metadata": {},
   "outputs": [
    {
     "data": {
      "text/plain": [
       "array([100,   1,   2,  99,  99])"
      ]
     },
     "execution_count": 41,
     "metadata": {},
     "output_type": "execute_result"
    }
   ],
   "source": [
    "##### Setting Elements with `__setitem__` (Not Recommended in Practice)\n",
    "\n",
    "# `a.__setitem__(0, 100)` is a lower-level way of setting the value at index 0 to 100.\n",
    "# While it works and does the same thing as `a[0] = 100`, it's **not the preferred way**.\n",
    "\n",
    "##### Better Alternative: Use Bracket Notation\n",
    "\n",
    "#  Recommended: `a[0] = 100`\n",
    "#  Not Recommended: `a.__setitem__(0, 100)`\n",
    "\n",
    "\n",
    "a.__setitem__(0, 100)\n",
    "a"
   ]
  },
  {
   "cell_type": "markdown",
   "id": "641de778",
   "metadata": {},
   "source": [
    "#### Fancy Slicing \n",
    "##### Indexing by position "
   ]
  },
  {
   "cell_type": "code",
   "execution_count": 42,
   "id": "dd6b4314",
   "metadata": {},
   "outputs": [
    {
     "data": {
      "text/plain": [
       "array([ 0, 10, 20, 30, 40, 50, 60, 70])"
      ]
     },
     "execution_count": 42,
     "metadata": {},
     "output_type": "execute_result"
    }
   ],
   "source": [
    "a = np.arange(0,80,10)\n",
    "a"
   ]
  },
  {
   "cell_type": "code",
   "execution_count": 43,
   "id": "a3bc3092",
   "metadata": {},
   "outputs": [
    {
     "data": {
      "text/plain": [
       "array([10, 20, 50])"
      ]
     },
     "execution_count": 43,
     "metadata": {},
     "output_type": "execute_result"
    }
   ],
   "source": [
    "# Fancy indexing \n",
    "indices = [1,2,-3]\n",
    "y = a[indices]\n",
    "y"
   ]
  },
  {
   "cell_type": "code",
   "execution_count": 44,
   "id": "af95f332",
   "metadata": {},
   "outputs": [
    {
     "data": {
      "text/plain": [
       "array([ 0, 99, 99, 30, 40, 99, 60, 70])"
      ]
     },
     "execution_count": 44,
     "metadata": {},
     "output_type": "execute_result"
    }
   ],
   "source": [
    "# This also work by setting\n",
    "a[indices] = 99\n",
    "a"
   ]
  },
  {
   "cell_type": "markdown",
   "id": "cbf6ca98",
   "metadata": {},
   "source": [
    "#### Indexing With Boolean "
   ]
  },
  {
   "cell_type": "code",
   "execution_count": 45,
   "id": "b220767b",
   "metadata": {},
   "outputs": [
    {
     "data": {
      "text/plain": [
       "array([99, 99, 99])"
      ]
     },
     "execution_count": 45,
     "metadata": {},
     "output_type": "execute_result"
    }
   ],
   "source": [
    "# Manual creation of masks \n",
    "\n",
    "mask = np.array([0, 1, 1, 0, 0, 1, 0, 0], dtype= bool)\n",
    "\n",
    "y = a[mask]\n",
    "y"
   ]
  },
  {
   "cell_type": "code",
   "execution_count": 46,
   "id": "c3ea52d6",
   "metadata": {},
   "outputs": [
    {
     "data": {
      "image/png": "[encoded data removed]",
      "text/plain": [
       "<IPython.core.display.Image object>"
      ]
     },
     "execution_count": 46,
     "metadata": {},
     "output_type": "execute_result"
    }
   ],
   "source": [
    "Image(filename='./image/Exercice_3.PNG')  "
   ]
  },
  {
   "cell_type": "code",
   "execution_count": 47,
   "id": "c908780a",
   "metadata": {},
   "outputs": [
    {
     "data": {
      "text/plain": [
       "array([[ 0,  1,  2,  3,  4,  5],\n",
       "       [10, 11, 12, 13, 14, 15],\n",
       "       [20, 21, 22, 23, 24, 25],\n",
       "       [30, 31, 32, 33, 34, 35],\n",
       "       [40, 41, 42, 43, 44, 45],\n",
       "       [50, 51, 52, 53, 54, 55]])"
      ]
     },
     "execution_count": 47,
     "metadata": {},
     "output_type": "execute_result"
    }
   ],
   "source": [
    "a = np.array([\n",
    "    [0, 1, 2, 3, 4, 5],\n",
    "    [10, 11, 12, 13, 14, 15],\n",
    "    [20, 21, 22, 23, 24, 25],\n",
    "    [30, 31, 32, 33, 34, 35],\n",
    "    [40, 41, 42, 43, 44, 45],\n",
    "    [50, 51, 52, 53, 54, 55]\n",
    "])\n",
    "a"
   ]
  },
  {
   "cell_type": "markdown",
   "id": "9f12a2b8",
   "metadata": {},
   "source": [
    "##### Yellow"
   ]
  },
  {
   "cell_type": "code",
   "execution_count": 48,
   "id": "a6b6ab70",
   "metadata": {},
   "outputs": [
    {
     "data": {
      "text/plain": [
       "array([ 1, 12, 23, 34, 45])"
      ]
     },
     "execution_count": 48,
     "metadata": {},
     "output_type": "execute_result"
    }
   ],
   "source": [
    "a[[0,1,2,3,4,],\n",
    "  [1,2,3,4,5,]]"
   ]
  },
  {
   "cell_type": "markdown",
   "id": "f18dd1ab",
   "metadata": {},
   "source": [
    "##### Red"
   ]
  },
  {
   "cell_type": "code",
   "execution_count": 49,
   "id": "163f615b",
   "metadata": {},
   "outputs": [
    {
     "data": {
      "text/plain": [
       "array([ 2, 22, 55])"
      ]
     },
     "execution_count": 49,
     "metadata": {},
     "output_type": "execute_result"
    }
   ],
   "source": [
    "a[[0,2,-1],\n",
    "  [2,2,-1]]"
   ]
  },
  {
   "cell_type": "markdown",
   "id": "2fdf5e30",
   "metadata": {},
   "source": [
    "##### Blue"
   ]
  },
  {
   "cell_type": "code",
   "execution_count": 50,
   "id": "8f998430",
   "metadata": {},
   "outputs": [
    {
     "data": {
      "text/plain": [
       "array([[30, 32, 35],\n",
       "       [40, 42, 45],\n",
       "       [50, 52, 55]])"
      ]
     },
     "execution_count": 50,
     "metadata": {},
     "output_type": "execute_result"
    }
   ],
   "source": [
    "a[3:,\n",
    "  [0,2,5]]"
   ]
  },
  {
   "cell_type": "code",
   "execution_count": 51,
   "id": "ac81b312",
   "metadata": {},
   "outputs": [
    {
     "data": {
      "image/png": "[encoded data removed]",
      "text/plain": [
       "<IPython.core.display.Image object>"
      ]
     },
     "execution_count": 51,
     "metadata": {},
     "output_type": "execute_result"
    }
   ],
   "source": [
    "Image(filename='./image/Exercice_4.PNG')"
   ]
  },
  {
   "cell_type": "code",
   "execution_count": 57,
   "id": "e30165c2",
   "metadata": {},
   "outputs": [],
   "source": [
    "a = np.arange(25).reshape(5,5)"
   ]
  },
  {
   "cell_type": "code",
   "execution_count": 60,
   "id": "05766e2a",
   "metadata": {},
   "outputs": [
    {
     "data": {
      "text/plain": [
       "array([ 1,  7, 13, 19])"
      ]
     },
     "execution_count": 60,
     "metadata": {},
     "output_type": "execute_result"
    }
   ],
   "source": [
    "a[[0,1,2,3],[1,2,3,4]]"
   ]
  },
  {
   "cell_type": "code",
   "execution_count": 52,
   "id": "06b0a053",
   "metadata": {},
   "outputs": [
    {
     "data": {
      "image/png": "[encoded data removed]",
      "text/plain": [
       "<IPython.core.display.Image object>"
      ]
     },
     "execution_count": 52,
     "metadata": {},
     "output_type": "execute_result"
    }
   ],
   "source": [
    "Image(filename='./image/Exercice_5.PNG')"
   ]
  },
  {
   "cell_type": "code",
   "execution_count": 53,
   "id": "176198ea",
   "metadata": {},
   "outputs": [
    {
     "data": {
      "text/plain": [
       "array([[ 0,  1,  2,  3,  4],\n",
       "       [ 5,  6,  7,  8,  9],\n",
       "       [10, 11, 12, 13, 14],\n",
       "       [15, 16, 17, 18, 19],\n",
       "       [20, 21, 22, 23, 24]])"
      ]
     },
     "execution_count": 53,
     "metadata": {},
     "output_type": "execute_result"
    }
   ],
   "source": [
    "a = np.arange(25).reshape(5,5)\n",
    "a"
   ]
  },
  {
   "cell_type": "code",
   "execution_count": 54,
   "id": "7789c305",
   "metadata": {},
   "outputs": [
    {
     "data": {
      "text/plain": [
       "array([ 2, 13, 16, 19])"
      ]
     },
     "execution_count": 54,
     "metadata": {},
     "output_type": "execute_result"
    }
   ],
   "source": [
    "a[[0,2,3,3],[2,3,1,4]]"
   ]
  },
  {
   "cell_type": "markdown",
   "id": "daceb188",
   "metadata": {},
   "source": [
    "#### Get only number devised by 3 "
   ]
  },
  {
   "cell_type": "code",
   "execution_count": 62,
   "id": "64cb3e04",
   "metadata": {},
   "outputs": [
    {
     "data": {
      "text/plain": [
       "array([[ True, False, False,  True, False],\n",
       "       [False,  True, False, False,  True],\n",
       "       [False, False,  True, False, False],\n",
       "       [ True, False, False,  True, False],\n",
       "       [False,  True, False, False,  True]])"
      ]
     },
     "execution_count": 62,
     "metadata": {},
     "output_type": "execute_result"
    }
   ],
   "source": [
    "a % 3 == 0"
   ]
  },
  {
   "cell_type": "code",
   "execution_count": 64,
   "id": "790f49c1",
   "metadata": {},
   "outputs": [
    {
     "data": {
      "text/plain": [
       "array([[ 0,  1,  2,  3,  4],\n",
       "       [ 5,  6,  7,  8,  9],\n",
       "       [10, 11, 12, 13, 14],\n",
       "       [15, 16, 17, 18, 19],\n",
       "       [20, 21, 22, 23, 24]])"
      ]
     },
     "execution_count": 64,
     "metadata": {},
     "output_type": "execute_result"
    }
   ],
   "source": [
    "a"
   ]
  },
  {
   "cell_type": "code",
   "execution_count": 63,
   "id": "ff3cd72a",
   "metadata": {},
   "outputs": [
    {
     "data": {
      "text/plain": [
       "array([ 0,  3,  6,  9, 12, 15, 18, 21, 24])"
      ]
     },
     "execution_count": 63,
     "metadata": {},
     "output_type": "execute_result"
    }
   ],
   "source": [
    "a[a % 3 == 0]"
   ]
  },
  {
   "cell_type": "markdown",
   "id": "b4035b6b",
   "metadata": {},
   "source": [
    "#### Multi-Dimensional Arrays"
   ]
  },
  {
   "cell_type": "code",
   "execution_count": 55,
   "id": "5c846ee8",
   "metadata": {},
   "outputs": [
    {
     "data": {
      "image/png": "[encoded data removed]",
      "text/plain": [
       "<IPython.core.display.Image object>"
      ]
     },
     "execution_count": 55,
     "metadata": {},
     "output_type": "execute_result"
    }
   ],
   "source": [
    "Image(filename='./image/vis.PNG')"
   ]
  }
 ],
 "metadata": {
  "kernelspec": {
   "display_name": "Python 3",
   "language": "python",
   "name": "python3"
  },
  "language_info": {
   "codemirror_mode": {
    "name": "ipython",
    "version": 3
   },
   "file_extension": ".py",
   "mimetype": "text/x-python",
   "name": "python",
   "nbconvert_exporter": "python",
   "pygments_lexer": "ipython3",
   "version": "3.11.5"
  }
 },
 "nbformat": 4,
 "nbformat_minor": 5
}
