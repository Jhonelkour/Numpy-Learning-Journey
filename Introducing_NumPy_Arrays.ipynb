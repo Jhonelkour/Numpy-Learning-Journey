{
 "cells": [
  {
   "cell_type": "markdown",
   "id": "870dc6be",
   "metadata": {},
   "source": [
    "#### Introducing NumPy Arrays"
   ]
  },
  {
   "cell_type": "code",
   "execution_count": 1,
   "id": "459a0558",
   "metadata": {},
   "outputs": [],
   "source": [
    "a = [1,2,3,4,5]\n",
    "b = [10,11,12,13,14]"
   ]
  },
  {
   "cell_type": "code",
   "execution_count": 2,
   "id": "f44887e3",
   "metadata": {},
   "outputs": [
    {
     "data": {
      "text/plain": [
       "[1, 2, 3, 4, 5, 10, 11, 12, 13, 14]"
      ]
     },
     "execution_count": 2,
     "metadata": {},
     "output_type": "execute_result"
    }
   ],
   "source": [
    "# Concatenates two lists `a` and `b` to create a single list containing all elements from both lists\n",
    "a + b "
   ]
  },
  {
   "cell_type": "code",
   "execution_count": 3,
   "id": "14ac0103",
   "metadata": {},
   "outputs": [
    {
     "data": {
      "text/plain": [
       "[11, 13, 15, 17, 19]"
      ]
     },
     "execution_count": 3,
     "metadata": {},
     "output_type": "execute_result"
    }
   ],
   "source": [
    "# Iterates over pairs of elements from lists `a` and `b` using zip, adds each pair, and stores the results in a new list `result`\n",
    "\n",
    "result = []\n",
    "for first, second in zip(a,b):\n",
    "    result.append( first + second)\n",
    "\n",
    "result"
   ]
  },
  {
   "cell_type": "markdown",
   "id": "82c8dc61",
   "metadata": {},
   "source": [
    "#### Using NumPy for element-wise addition of arrays provides better performance and cleaner code compared to iterating through lists and performing operations manually."
   ]
  },
  {
   "cell_type": "code",
   "execution_count": 4,
   "id": "2262b739",
   "metadata": {},
   "outputs": [],
   "source": [
    "import numpy as np "
   ]
  },
  {
   "cell_type": "code",
   "execution_count": 5,
   "id": "7e651b1b",
   "metadata": {},
   "outputs": [
    {
     "data": {
      "text/plain": [
       "numpy.ndarray"
      ]
     },
     "execution_count": 5,
     "metadata": {},
     "output_type": "execute_result"
    }
   ],
   "source": [
    "# Creates a NumPy array `a` and checks its type, which will return <class 'numpy.ndarray'>, \n",
    "\n",
    "a = np.array([1,2,3,4])\n",
    "type(a)"
   ]
  },
  {
   "cell_type": "code",
   "execution_count": 6,
   "id": "1abc642b",
   "metadata": {},
   "outputs": [
    {
     "data": {
      "text/plain": [
       "dtype('int32')"
      ]
     },
     "execution_count": 6,
     "metadata": {},
     "output_type": "execute_result"
    }
   ],
   "source": [
    "# Accesses the `dtype` attribute of the NumPy array `a` to return the data type of the elements in the array.\n",
    "a.dtype"
   ]
  },
  {
   "cell_type": "code",
   "execution_count": 7,
   "id": "558eb2d5",
   "metadata": {},
   "outputs": [
    {
     "data": {
      "text/plain": [
       "dtype('float64')"
      ]
     },
     "execution_count": 7,
     "metadata": {},
     "output_type": "execute_result"
    }
   ],
   "source": [
    "f =np.array([1.2,1.3,1.4,1.5])\n",
    "f.dtype"
   ]
  },
  {
   "cell_type": "code",
   "execution_count": 8,
   "id": "55affc14",
   "metadata": {},
   "outputs": [
    {
     "data": {
      "text/plain": [
       "1"
      ]
     },
     "execution_count": 8,
     "metadata": {},
     "output_type": "execute_result"
    }
   ],
   "source": [
    "# Accesses the first element of the NumPy array `a`. \n",
    "a[0]"
   ]
  },
  {
   "cell_type": "code",
   "execution_count": 9,
   "id": "0e72ae2d",
   "metadata": {},
   "outputs": [
    {
     "data": {
      "text/plain": [
       "array([10,  2,  3,  4])"
      ]
     },
     "execution_count": 9,
     "metadata": {},
     "output_type": "execute_result"
    }
   ],
   "source": [
    "# Modifies the first element of the NumPy array `a` by assigning it a new value, `10`.\n",
    "a[0] = 10 \n",
    "a"
   ]
  },
  {
   "cell_type": "code",
   "execution_count": 10,
   "id": "46fdaf61",
   "metadata": {},
   "outputs": [
    {
     "data": {
      "text/plain": [
       "array([11,  2,  3,  4])"
      ]
     },
     "execution_count": 10,
     "metadata": {},
     "output_type": "execute_result"
    }
   ],
   "source": [
    "# However, if you add a float value to an integer-type array, the float will be **truncated** \n",
    "# (not rounded), and only the integer part will be stored, effectively treating the result as an integer.\n",
    "a[0] = 11.5\n",
    "a"
   ]
  },
  {
   "cell_type": "code",
   "execution_count": 11,
   "id": "6416db6d",
   "metadata": {},
   "outputs": [
    {
     "data": {
      "text/plain": [
       "1"
      ]
     },
     "execution_count": 11,
     "metadata": {},
     "output_type": "execute_result"
    }
   ],
   "source": [
    "# Accesses the `ndim` attribute of the NumPy array `a`, which returns the number of dimensions (axes) of the array.\n",
    "a.ndim"
   ]
  },
  {
   "cell_type": "code",
   "execution_count": 12,
   "id": "2df15219",
   "metadata": {},
   "outputs": [
    {
     "data": {
      "text/plain": [
       "(4,)"
      ]
     },
     "execution_count": 12,
     "metadata": {},
     "output_type": "execute_result"
    }
   ],
   "source": [
    "# Accesses the `shape` attribute of the NumPy array `a`, which returns a tuple representing the dimensions of the array.\n",
    "# For a one-dimensional array like `a`, it will return `(4,)`, indicating that it has 4 elements along a single axis.\n",
    "a.shape"
   ]
  },
  {
   "cell_type": "code",
   "execution_count": 13,
   "id": "83f0ab72",
   "metadata": {},
   "outputs": [
    {
     "data": {
      "text/plain": [
       "4"
      ]
     },
     "execution_count": 13,
     "metadata": {},
     "output_type": "execute_result"
    }
   ],
   "source": [
    "# Accesses the `size` attribute of the NumPy array `a`, which returns the total number of elements in the array.\n",
    "# For the array `a`, it will return `4` since there are 4 elements in total.\n",
    "a.size"
   ]
  },
  {
   "cell_type": "markdown",
   "id": "ce03add4",
   "metadata": {},
   "source": [
    "#### 📘 Mathematical Operations on NumPy Arrays\n"
   ]
  },
  {
   "cell_type": "markdown",
   "id": "3f2a9161",
   "metadata": {},
   "source": [
    "##### NumPy allows you to perform fast and efficient element-wise mathematical operations on arrays.\n",
    "##### These operations can involve two arrays (of the same shape or broadcastable shapes), \n",
    "#####  or an array and a scalar value.\n",
    "##### \n",
    "#####  🔹 Element-wise operations:\n",
    "#####     - Addition:         a + b         → Adds corresponding elements of arrays a and b\n",
    "#####     - Subtraction:      a - b         → Subtracts elements of b from elements of a\n",
    "#####     - Multiplication:   a * b         → Multiplies corresponding elements\n",
    "#####     - Division:         a / b         → Divides elements of a by elements of b\n",
    "#####     - Exponentiation:   a ** b        → Raises elements of a to the powers in b"
   ]
  },
  {
   "cell_type": "code",
   "execution_count": 14,
   "id": "82c6fbc2",
   "metadata": {},
   "outputs": [
    {
     "data": {
      "text/plain": [
       "array([12.2,  3.3,  4.4,  5.5])"
      ]
     },
     "execution_count": 14,
     "metadata": {},
     "output_type": "execute_result"
    }
   ],
   "source": [
    "# Performs element-wise addition between two NumPy arrays `a` and `f`.\n",
    "# Both arrays must have the same shape, or be broadcastable to the same shape, for the operation to work.\n",
    "# The result is a new array where each element is the sum of the corresponding elements from `a` and `f`.\n",
    "a + f"
   ]
  },
  {
   "cell_type": "code",
   "execution_count": 15,
   "id": "a54b064c",
   "metadata": {},
   "outputs": [
    {
     "data": {
      "text/plain": [
       "array([13.2,  2.6,  4.2,  6. ])"
      ]
     },
     "execution_count": 15,
     "metadata": {},
     "output_type": "execute_result"
    }
   ],
   "source": [
    "# Performs element-wise multiplication between two NumPy arrays `a` and `f`.\n",
    "# Each element in the resulting array is the product of the corresponding elements in `a` and `f`.\n",
    "# This requires that `a` and `f` have the same shape or are broadcastable.\n",
    "a * f"
   ]
  },
  {
   "cell_type": "code",
   "execution_count": 16,
   "id": "9b7bc798",
   "metadata": {},
   "outputs": [
    {
     "data": {
      "text/plain": [
       "array([9.16666667, 1.53846154, 2.14285714, 2.66666667])"
      ]
     },
     "execution_count": 16,
     "metadata": {},
     "output_type": "execute_result"
    }
   ],
   "source": [
    "# Performs element-wise division between the NumPy arrays `a` and `f`.\n",
    "# Each element in the resulting array is the result of dividing the corresponding element in `a` by the one in `f`.\n",
    "# If `f` contains any zeros, NumPy will return `inf` or `nan` and may issue a runtime warning.\n",
    "a / f "
   ]
  },
  {
   "cell_type": "code",
   "execution_count": 17,
   "id": "636181df",
   "metadata": {},
   "outputs": [
    {
     "data": {
      "text/plain": [
       "array([7.43008371, 1.69      , 2.744     , 5.0625    ])"
      ]
     },
     "execution_count": 17,
     "metadata": {},
     "output_type": "execute_result"
    }
   ],
   "source": [
    "# Performs element-wise exponentiation between the NumPy arrays `f` and `a`.\n",
    "# Each element in the resulting array is calculated as `f[i]` raised to the power of `a[i]` (i.e., `f[i] ** a[i]`).\n",
    "# Both arrays must have the same shape or be broadcastable for this operation to work.\n",
    "f**a"
   ]
  },
  {
   "cell_type": "code",
   "execution_count": 18,
   "id": "0da990a8",
   "metadata": {},
   "outputs": [
    {
     "data": {
      "text/plain": [
       "array([110,  20,  30,  40])"
      ]
     },
     "execution_count": 18,
     "metadata": {},
     "output_type": "execute_result"
    }
   ],
   "source": [
    "# Multiplies every element in the NumPy array `a` by 10 using element-wise scalar multiplication.\n",
    "# The result is a new array where each element of `a` is scaled by a factor of 10.\n",
    "a * 10 "
   ]
  },
  {
   "cell_type": "markdown",
   "id": "dd538965",
   "metadata": {},
   "source": [
    "# ---------------------------------------------------------------------\n",
    "#### ⚙️ NumPy Universal Functions (ufuncs)\n",
    "# ---------------------------------------------------------------------\n",
    "##### Universal functions, or ufuncs, are vectorized wrappers for simple functions \n",
    "##### that operate on NumPy arrays element-wise. They are highly optimized in C \n",
    "##### for performance and allow you to perform operations without writing explicit loops.\n",
    "#\n",
    "##### 🔹 Key Characteristics:\n",
    "#####   - Fast: Avoids Python loops and uses low-level optimizations.\n",
    "#####   - Element-wise: Works on each element of an array independently.\n",
    "#####   - Supports broadcasting: Works even when array shapes are different but compatible.\n",
    "#####   - Supports scalar and array inputs.\n",
    "#\n",
    "##### 🔹 Examples of Common ufuncs:\n",
    "#####   ➤ Arithmetic:\n",
    "#####     - np.add(a, b)         → Adds elements (same as `a + b`)\n",
    "#####     - np.subtract(a, b)    → Subtracts elements (same as `a - b`)\n",
    "#####     - np.multiply(a, b)    → Multiplies elements (same as `a * b`)\n",
    "#####     - np.divide(a, b)      → Divides elements (same as `a / b`)\n",
    "#####     - np.power(a, b)       → Raises `a` to the power of `b` (same as `a ** b`)\n",
    "#####\n",
    "#####   ➤ Trigonometric:\n",
    "#####     - np.sin(a), np.cos(a), np.tan(a)\n",
    "#####\n",
    "#####   ➤ Exponentials & Logarithms:\n",
    "#####     - np.exp(a)            → Exponential (e^a)\n",
    "#####     - np.log(a)            → Natural log (ln)\n",
    "#####     - np.log10(a)          → Log base 10\n",
    "#####\n",
    "#####   ➤ Aggregation (reductions):\n",
    "#####     - np.sum(a), np.mean(a), np.max(a), np.min(a), np.std(a), np.var(a)\n",
    "#\n",
    "#####   ➤ Comparison:\n",
    "#####     - np.equal(a, b), np.greater(a, b), np.less_equal(a, b)\n",
    "#\n",
    "##### 🔹 Benefit:\n",
    "#####   ufuncs make mathematical operations on arrays both **concise** and **efficient**.\n",
    "\n",
    "#\n",
    "#### Universal functions are a cornerstone of numerical computing with NumPy.\n",
    "# ---------------------------------------------------------------------\n"
   ]
  },
  {
   "cell_type": "code",
   "execution_count": 19,
   "id": "6585ca50",
   "metadata": {},
   "outputs": [
    {
     "data": {
      "text/plain": [
       "array([3.31662479, 1.41421356, 1.73205081, 2.        ])"
      ]
     },
     "execution_count": 19,
     "metadata": {},
     "output_type": "execute_result"
    }
   ],
   "source": [
    "# Applies the NumPy universal function `np.sqrt()` to the array `a`.\n",
    "# This calculates the **square root** of each element in `a` individually (element-wise).\n",
    "# The result is a new array where each element is the square root of the corresponding element in `a`.\n",
    "# Note: All elements in `a` should be non-negative, or the result will include `nan` or complex numbers\n",
    "np.sqrt(a)"
   ]
  },
  {
   "cell_type": "code",
   "execution_count": 20,
   "id": "ab170067",
   "metadata": {},
   "outputs": [],
   "source": [
    "import warnings"
   ]
  },
  {
   "cell_type": "code",
   "execution_count": 21,
   "id": "7c3b514c",
   "metadata": {},
   "outputs": [],
   "source": [
    "import warnings\n",
    "warnings.filterwarnings(\"ignore\")"
   ]
  },
  {
   "cell_type": "code",
   "execution_count": 22,
   "id": "d9afcac8",
   "metadata": {},
   "outputs": [
    {
     "data": {
      "text/plain": [
       "array([1.        , 1.41421356,        nan])"
      ]
     },
     "execution_count": 22,
     "metadata": {},
     "output_type": "execute_result"
    }
   ],
   "source": [
    "b = np.array([1,2,-2]) # An example with with negative element -2\n",
    "np.sqrt(b)"
   ]
  },
  {
   "cell_type": "code",
   "execution_count": 23,
   "id": "daee2b95",
   "metadata": {},
   "outputs": [
    {
     "data": {
      "text/plain": [
       "array([-0.99999021,  0.90929743,  0.14112001, -0.7568025 ])"
      ]
     },
     "execution_count": 23,
     "metadata": {},
     "output_type": "execute_result"
    }
   ],
   "source": [
    "# Applies the NumPy universal function `np.sin()` to the array `a`.\n",
    "# This calculates the **sine** of each element in `a` individually (element-wise), \n",
    "# where the values in `a` are assumed to be in **radians**.\n",
    "# The result is a new array where each element is the sine of the corresponding element in `a`.\n",
    "# Note: If `a` contains values in degrees, you should first convert them to radians \n",
    "# using `np.radians(a)` before applying `np.sin()`.\n",
    "np.sin(a)"
   ]
  },
  {
   "cell_type": "code",
   "execution_count": 24,
   "id": "b51a75bc",
   "metadata": {},
   "outputs": [
    {
     "data": {
      "text/plain": [
       "array([0, 1, 2, 3])"
      ]
     },
     "execution_count": 24,
     "metadata": {},
     "output_type": "execute_result"
    }
   ],
   "source": [
    "a = np.array([0,1,2,3])\n",
    "a"
   ]
  },
  {
   "cell_type": "markdown",
   "id": "5b35ca07",
   "metadata": {},
   "source": [
    "#### Setting Array Elements \n",
    "\n",
    "#### Array indexing "
   ]
  },
  {
   "cell_type": "code",
   "execution_count": 25,
   "id": "68220021",
   "metadata": {},
   "outputs": [
    {
     "data": {
      "text/plain": [
       "0"
      ]
     },
     "execution_count": 25,
     "metadata": {},
     "output_type": "execute_result"
    }
   ],
   "source": [
    "# You can access elements at a given position in a NumPy array using the square brackets notation, \n",
    "# similar to Python lists. For example, `a[0]` accesses the first element of the array `a`.\n",
    "# Additionally, like Python lists, NumPy arrays are **mutable sequences**, meaning that \n",
    "# you can modify their elements directly. In this case, `a[0] = 0` updates the first element of the array to 0.\n",
    "# This flexibility allows you to change values at any index in the array, unlike immutable sequences such as tuples.\n",
    "a[0]"
   ]
  },
  {
   "cell_type": "markdown",
   "id": "4d4fbab0",
   "metadata": {},
   "source": [
    "#### Beware of type coercion "
   ]
  },
  {
   "cell_type": "code",
   "execution_count": null,
   "id": "4a112abe",
   "metadata": {},
   "outputs": [
    {
     "data": {
      "text/plain": [
       "array([10,  1,  2,  3])"
      ]
     },
     "execution_count": 26,
     "metadata": {},
     "output_type": "execute_result"
    }
   ],
   "source": [
    "# NumPy enforces **data type consistency** within arrays. Each array has a specific **dtype** \n",
    "# (data type) that determines what kind of values it can store. If you try to insert a value \n",
    "# that doesn’t match the dtype, NumPy will attempt to convert it.\n",
    "# \n",
    "# For example, if we have an integer array and try to insert a float, NumPy will **truncate** \n",
    "# the float to fit the integer type. Conversely, if we have a float array and insert an integer, \n",
    "# the integer will be **automatically promoted** to a float to maintain consistency.\n",
    "# \n",
    "# This ensures that operations on NumPy arrays remain efficient and predictable, as the data type \n",
    "# of elements is always known and managed. \n",
    "\n",
    "a[0] = 10.6\n",
    "a\n"
   ]
  },
  {
   "cell_type": "code",
   "execution_count": 27,
   "id": "c657121a",
   "metadata": {},
   "outputs": [
    {
     "data": {
      "text/plain": [
       "array([-4, -4, -4, -4])"
      ]
     },
     "execution_count": 27,
     "metadata": {},
     "output_type": "execute_result"
    }
   ],
   "source": [
    "# fill has the same behavior \n",
    "\n",
    "# The `fill()` method in NumPy arrays sets all elements of the array to a specified value.\n",
    "# In this case, `a.fill(-4.8)` fills the entire array `a` with the value `-4.8`.\n",
    "# It has the same behavior as setting all elements of the array to a single value, \n",
    "# and it maintains the array's data type. If the array's dtype is integer, \n",
    "# the floating-point value `-4.8` will be truncated to `-4` to match the integer type.\n",
    "\n",
    "\n",
    "a.fill(-4.8)\n",
    "a"
   ]
  }
 ],
 "metadata": {
  "kernelspec": {
   "display_name": "Python 3",
   "language": "python",
   "name": "python3"
  },
  "language_info": {
   "codemirror_mode": {
    "name": "ipython",
    "version": 3
   },
   "file_extension": ".py",
   "mimetype": "text/x-python",
   "name": "python",
   "nbconvert_exporter": "python",
   "pygments_lexer": "ipython3",
   "version": "3.11.5"
  }
 },
 "nbformat": 4,
 "nbformat_minor": 5
}
