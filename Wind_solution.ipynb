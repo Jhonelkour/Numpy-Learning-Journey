{
 "cells": [
  {
   "cell_type": "code",
   "execution_count": 1,
   "id": "5e863af8",
   "metadata": {},
   "outputs": [],
   "source": [
    "import numpy as np\n",
    "from numpy import loadtxt\n"
   ]
  },
  {
   "cell_type": "code",
   "execution_count": 2,
   "id": "4aa76b85",
   "metadata": {},
   "outputs": [],
   "source": [
    "data_wind = loadtxt('./wind_statistics/wind.data')"
   ]
  },
  {
   "cell_type": "code",
   "execution_count": 3,
   "id": "c908904d",
   "metadata": {},
   "outputs": [
    {
     "data": {
      "text/plain": [
       "array([[61.  ,  1.  ,  1.  , ..., 12.58, 18.5 , 15.04],\n",
       "       [61.  ,  1.  ,  2.  , ...,  9.67, 17.54, 13.83],\n",
       "       [61.  ,  1.  ,  3.  , ...,  7.67, 12.75, 12.71],\n",
       "       ...,\n",
       "       [78.  , 12.  , 29.  , ..., 16.42, 18.88, 29.58],\n",
       "       [78.  , 12.  , 30.  , ..., 12.12, 14.67, 28.79],\n",
       "       [78.  , 12.  , 31.  , ..., 11.38, 12.08, 22.08]])"
      ]
     },
     "execution_count": 3,
     "metadata": {},
     "output_type": "execute_result"
    }
   ],
   "source": [
    "data_wind"
   ]
  },
  {
   "cell_type": "code",
   "execution_count": 53,
   "id": "a8c6c789",
   "metadata": {},
   "outputs": [
    {
     "data": {
      "text/plain": [
       "array([[61.,  1.,  1.],\n",
       "       [61.,  1.,  2.],\n",
       "       [61.,  1.,  3.],\n",
       "       ...,\n",
       "       [78., 12., 29.],\n",
       "       [78., 12., 30.],\n",
       "       [78., 12., 31.]])"
      ]
     },
     "execution_count": 53,
     "metadata": {},
     "output_type": "execute_result"
    }
   ],
   "source": [
    "dates = data_wind[: , :3]\n",
    "dates"
   ]
  },
  {
   "cell_type": "markdown",
   "id": "cf9b132a",
   "metadata": {},
   "source": [
    "##### The first three columns are year, month and day.  The remaining 12 columns are average windspeeds in knots at 12 locations in Ireland on tha day."
   ]
  },
  {
   "cell_type": "code",
   "execution_count": 45,
   "id": "cf0d9636",
   "metadata": {},
   "outputs": [
    {
     "data": {
      "text/plain": [
       "array([[15.04, 14.96, 13.17, ..., 12.58, 18.5 , 15.04],\n",
       "       [14.71, 16.88, 10.83, ...,  9.67, 17.54, 13.83],\n",
       "       [18.5 , 16.88, 12.33, ...,  7.67, 12.75, 12.71],\n",
       "       ...,\n",
       "       [14.  , 10.29, 14.42, ..., 16.42, 18.88, 29.58],\n",
       "       [18.5 , 14.04, 21.29, ..., 12.12, 14.67, 28.79],\n",
       "       [20.33, 17.41, 27.29, ..., 11.38, 12.08, 22.08]])"
      ]
     },
     "execution_count": 45,
     "metadata": {},
     "output_type": "execute_result"
    }
   ],
   "source": [
    "data = data_wind[: , 3:]\n",
    "data"
   ]
  },
  {
   "cell_type": "markdown",
   "id": "09a3a2b2",
   "metadata": {},
   "source": [
    "#### 2. Calculate the min, max and mean windspeeds and standard deviation of the windspeeds over all the locations and all the times (a single set of numbers for the entire dataset)."
   ]
  },
  {
   "cell_type": "code",
   "execution_count": 5,
   "id": "19d36d10",
   "metadata": {},
   "outputs": [
    {
     "data": {
      "text/plain": [
       "0.0"
      ]
     },
     "execution_count": 5,
     "metadata": {},
     "output_type": "execute_result"
    }
   ],
   "source": [
    "min = data.min()\n",
    "min\n"
   ]
  },
  {
   "cell_type": "code",
   "execution_count": 6,
   "id": "e7158bbd",
   "metadata": {},
   "outputs": [
    {
     "data": {
      "text/plain": [
       "42.54"
      ]
     },
     "execution_count": 6,
     "metadata": {},
     "output_type": "execute_result"
    }
   ],
   "source": [
    "max = data.max()\n",
    "max"
   ]
  },
  {
   "cell_type": "code",
   "execution_count": 7,
   "id": "961ef341",
   "metadata": {},
   "outputs": [
    {
     "data": {
      "text/plain": [
       "10.22837377040868"
      ]
     },
     "execution_count": 7,
     "metadata": {},
     "output_type": "execute_result"
    }
   ],
   "source": [
    "mean = data.mean()\n",
    "mean"
   ]
  },
  {
   "cell_type": "code",
   "execution_count": 8,
   "id": "cfcab213",
   "metadata": {},
   "outputs": [
    {
     "data": {
      "text/plain": [
       "5.603840181095793"
      ]
     },
     "execution_count": 8,
     "metadata": {},
     "output_type": "execute_result"
    }
   ],
   "source": [
    "Standard_div = data.std()\n",
    "Standard_div"
   ]
  },
  {
   "cell_type": "markdown",
   "id": "a8cbcee8",
   "metadata": {},
   "source": [
    "#### 3. Calculate the min, max and mean windspeeds and standard deviations of the windspeeds at each location over all the days (a different set of numbers for each location)"
   ]
  },
  {
   "cell_type": "code",
   "execution_count": 9,
   "id": "c1b6dcb1",
   "metadata": {},
   "outputs": [
    {
     "data": {
      "text/plain": [
       "array([0.67, 0.21, 1.5 , 0.  , 0.13, 0.  , 0.  , 0.  , 0.  , 0.04, 0.13,\n",
       "       0.67])"
      ]
     },
     "execution_count": 9,
     "metadata": {},
     "output_type": "execute_result"
    }
   ],
   "source": [
    "min = data.min(axis= 0)\n",
    "min"
   ]
  },
  {
   "cell_type": "code",
   "execution_count": 10,
   "id": "89be0080",
   "metadata": {},
   "outputs": [
    {
     "data": {
      "text/plain": [
       "array([35.8 , 33.37, 33.84, 28.46, 37.54, 26.16, 30.37, 31.08, 25.88,\n",
       "       28.21, 42.38, 42.54])"
      ]
     },
     "execution_count": 10,
     "metadata": {},
     "output_type": "execute_result"
    }
   ],
   "source": [
    "max = data.max(axis= 0)\n",
    "max"
   ]
  },
  {
   "cell_type": "code",
   "execution_count": 11,
   "id": "cc7a0959",
   "metadata": {},
   "outputs": [
    {
     "data": {
      "text/plain": [
       "array([12.36371463, 10.64644813, 11.66010344,  6.30627472, 10.45688013,\n",
       "        7.09225434,  9.7968345 ,  8.49442044,  8.49581838,  8.70726803,\n",
       "       13.121007  , 15.59946152])"
      ]
     },
     "execution_count": 11,
     "metadata": {},
     "output_type": "execute_result"
    }
   ],
   "source": [
    "mean = data.mean(axis= 0)\n",
    "mean"
   ]
  },
  {
   "cell_type": "code",
   "execution_count": 12,
   "id": "51fbded4",
   "metadata": {},
   "outputs": [
    {
     "data": {
      "text/plain": [
       "array([5.61918301, 5.26820081, 5.00738377, 3.60513309, 4.93536333,\n",
       "       3.96838126, 4.97689374, 4.49865783, 4.16746101, 4.50327222,\n",
       "       5.83459319, 6.69734719])"
      ]
     },
     "execution_count": 12,
     "metadata": {},
     "output_type": "execute_result"
    }
   ],
   "source": [
    "standard_div = data.std(axis = 0)\n",
    "standard_div"
   ]
  },
  {
   "cell_type": "markdown",
   "id": "6c89de9c",
   "metadata": {},
   "source": [
    "#### 4. Calculate the min, max and mean windspeed and standard deviations of the windspeeds across all the locations at each day (a different set of numbers for each day)"
   ]
  },
  {
   "cell_type": "code",
   "execution_count": 13,
   "id": "f75e0926",
   "metadata": {},
   "outputs": [
    {
     "data": {
      "text/plain": [
       "array([9.29, 6.5 , 6.17, ..., 8.71, 9.13, 9.59])"
      ]
     },
     "execution_count": 13,
     "metadata": {},
     "output_type": "execute_result"
    }
   ],
   "source": [
    "min = data.min(axis= 1)\n",
    "min"
   ]
  },
  {
   "cell_type": "code",
   "execution_count": 14,
   "id": "da00d9e8",
   "metadata": {},
   "outputs": [
    {
     "data": {
      "text/plain": [
       "array([18.5 , 17.54, 18.5 , ..., 29.58, 28.79, 27.29])"
      ]
     },
     "execution_count": 14,
     "metadata": {},
     "output_type": "execute_result"
    }
   ],
   "source": [
    "max = data.max(axis = 1)\n",
    "max"
   ]
  },
  {
   "cell_type": "code",
   "execution_count": 15,
   "id": "819bc422",
   "metadata": {},
   "outputs": [
    {
     "data": {
      "text/plain": [
       "array([13.09666667, 11.79833333, 11.34166667, ..., 14.89      ,\n",
       "       15.3675    , 15.4025    ])"
      ]
     },
     "execution_count": 15,
     "metadata": {},
     "output_type": "execute_result"
    }
   ],
   "source": [
    "mean = data.mean(axis = 1)\n",
    "mean"
   ]
  },
  {
   "cell_type": "code",
   "execution_count": 16,
   "id": "42680de8",
   "metadata": {},
   "outputs": [
    {
     "data": {
      "text/plain": [
       "array([2.5773188 , 3.28972854, 3.50543348, ..., 5.51175108, 5.30456427,\n",
       "       5.45971172])"
      ]
     },
     "execution_count": 16,
     "metadata": {},
     "output_type": "execute_result"
    }
   ],
   "source": [
    "standard_div = data.std(axis= 1)\n",
    "standard_div"
   ]
  },
  {
   "cell_type": "markdown",
   "id": "5611b7be",
   "metadata": {},
   "source": [
    "#### 5. Find the location which has the greatest windspeed on each day (an integer column number for each day)."
   ]
  },
  {
   "cell_type": "code",
   "execution_count": 56,
   "id": "20a53c42",
   "metadata": {},
   "outputs": [
    {
     "data": {
      "text/plain": [
       "array([10, 10,  0, ..., 11, 11,  2], dtype=int64)"
      ]
     },
     "execution_count": 56,
     "metadata": {},
     "output_type": "execute_result"
    }
   ],
   "source": [
    "greatest_windspeed = data.argmax(axis=1)\n",
    "greatest_windspeed"
   ]
  },
  {
   "cell_type": "markdown",
   "id": "025c2521",
   "metadata": {},
   "source": [
    "#### 6. Find the year, month and day on which the greatest windspeed was recorded.\n"
   ]
  },
  {
   "cell_type": "code",
   "execution_count": 57,
   "id": "677872c2",
   "metadata": {},
   "outputs": [],
   "source": [
    "daily_max = data.max(axis=1)\n",
    "max_row = daily_max.argmax()\n",
    "max_row, max_col = np.where(data == data.max())\n",
    "max_row, max_col = np.unravel_index(data.argmax(), data.shape)\n",
    "\n"
   ]
  },
  {
   "cell_type": "code",
   "execution_count": 21,
   "id": "2b3b636d",
   "metadata": {},
   "outputs": [
    {
     "data": {
      "text/plain": [
       "array([66.])"
      ]
     },
     "execution_count": 21,
     "metadata": {},
     "output_type": "execute_result"
    }
   ],
   "source": [
    "year = data_wind[max_row,0]\n",
    "year"
   ]
  },
  {
   "cell_type": "code",
   "execution_count": 22,
   "id": "d6c1029c",
   "metadata": {},
   "outputs": [
    {
     "data": {
      "text/plain": [
       "array([12.])"
      ]
     },
     "execution_count": 22,
     "metadata": {},
     "output_type": "execute_result"
    }
   ],
   "source": [
    "month = data_wind[max_row,1]\n",
    "month"
   ]
  },
  {
   "cell_type": "code",
   "execution_count": 64,
   "id": "b4c72b2e",
   "metadata": {},
   "outputs": [
    {
     "data": {
      "text/plain": [
       "2.0"
      ]
     },
     "execution_count": 64,
     "metadata": {},
     "output_type": "execute_result"
    }
   ],
   "source": [
    "day = data_wind[max_row, 2]\n",
    "day "
   ]
  },
  {
   "cell_type": "markdown",
   "id": "238e0289",
   "metadata": {},
   "source": [
    "#### 7. Find the average windspeed in January for each location.\n"
   ]
  },
  {
   "cell_type": "code",
   "execution_count": 24,
   "id": "a1201b3f",
   "metadata": {},
   "outputs": [
    {
     "data": {
      "text/plain": [
       "array([ True,  True,  True, ..., False, False, False])"
      ]
     },
     "execution_count": 24,
     "metadata": {},
     "output_type": "execute_result"
    }
   ],
   "source": [
    "January_ind = data_wind[:, 1] == 1\n",
    "January_ind"
   ]
  },
  {
   "cell_type": "code",
   "execution_count": 25,
   "id": "eea7193b",
   "metadata": {},
   "outputs": [
    {
     "data": {
      "text/plain": [
       "array([[15.04, 14.96, 13.17, ..., 12.58, 18.5 , 15.04],\n",
       "       [14.71, 16.88, 10.83, ...,  9.67, 17.54, 13.83],\n",
       "       [18.5 , 16.88, 12.33, ...,  7.67, 12.75, 12.71],\n",
       "       ...,\n",
       "       [29.38, 18.54, 28.08, ..., 20.5 , 19.12, 38.2 ],\n",
       "       [ 9.62,  8.71,  9.59, ...,  4.46, 10.41, 12.83],\n",
       "       [10.5 ,  8.79,  9.54, ...,  6.38,  6.54, 17.37]])"
      ]
     },
     "execution_count": 25,
     "metadata": {},
     "output_type": "execute_result"
    }
   ],
   "source": [
    "January_data = data[January_ind]\n",
    "January_data"
   ]
  },
  {
   "cell_type": "code",
   "execution_count": 26,
   "id": "8cb2c36a",
   "metadata": {},
   "outputs": [
    {
     "data": {
      "text/plain": [
       "11.793809737156511"
      ]
     },
     "execution_count": 26,
     "metadata": {},
     "output_type": "execute_result"
    }
   ],
   "source": [
    "mean_january = January_data.mean()\n",
    "mean_january"
   ]
  },
  {
   "cell_type": "markdown",
   "id": "cca6021f",
   "metadata": {},
   "source": [
    "#### Bonus Bonus : this is really tricky...\n"
   ]
  },
  {
   "cell_type": "markdown",
   "id": "dac73403",
   "metadata": {},
   "source": [
    "##### 1. Calculate the mean windspeed for each month in the dataset.  Treat January 1961 and January 1962 as *different* months. (hint: first find a way to create an identifier unique for each month. The second step might require a for loop.)"
   ]
  },
  {
   "cell_type": "code",
   "execution_count": 42,
   "id": "a8d912c8",
   "metadata": {},
   "outputs": [
    {
     "data": {
      "text/plain": [
       "array([  0.,   0.,   0., ..., 215., 215., 215.])"
      ]
     },
     "execution_count": 42,
     "metadata": {},
     "output_type": "execute_result"
    }
   ],
   "source": [
    "# Create a unique month index \n",
    "months = (data_wind[:, 0] - 61) * 12 + data_wind[:, 1] - 1\n",
    "months"
   ]
  },
  {
   "cell_type": "code",
   "execution_count": 43,
   "id": "247922c5",
   "metadata": {},
   "outputs": [
    {
     "data": {
      "text/plain": [
       "array([13.09666667, 11.79833333, 11.34166667, ..., 14.89      ,\n",
       "       15.3675    , 15.4025    ])"
      ]
     },
     "execution_count": 43,
     "metadata": {},
     "output_type": "execute_result"
    }
   ],
   "source": [
    "# Step 2: Calculate mean windspeed per day (across all 12 stations)\n",
    "daily_means = data.mean(axis=1)\n",
    "daily_means"
   ]
  },
  {
   "cell_type": "code",
   "execution_count": 44,
   "id": "e2ba3366",
   "metadata": {},
   "outputs": [
    {
     "data": {
      "text/plain": [
       "[(0.0, 11.380645161290323),\n",
       " (1.0, 13.492351190476189),\n",
       " (2.0, 11.07236559139785),\n",
       " (3.0, 8.411166666666666),\n",
       " (4.0, 8.973413978494627),\n",
       " (5.0, 9.698277777777777),\n",
       " (6.0, 9.019112903225807),\n",
       " (7.0, 10.787446236559141),\n",
       " (8.0, 9.98913888888889),\n",
       " (9.0, 11.476586021505378),\n",
       " (10.0, 8.972749999999998),\n",
       " (11.0, 10.83540322580645),\n",
       " (12.0, 12.132123655913977),\n",
       " (13.0, 13.595982142857144),\n",
       " (14.0, 9.184596774193547),\n",
       " (15.0, 10.118583333333332),\n",
       " (16.0, 10.238091397849464),\n",
       " (17.0, 10.377111111111107),\n",
       " (18.0, 8.553924731182796),\n",
       " (19.0, 10.162473118279571),\n",
       " (20.0, 9.032333333333334),\n",
       " (21.0, 8.77284946236559),\n",
       " (22.0, 8.699583333333331),\n",
       " (23.0, 13.504247311827957),\n",
       " (24.0, 11.398306451612903),\n",
       " (25.0, 12.197499999999996),\n",
       " (26.0, 12.226801075268817),\n",
       " (27.0, 11.666972222222224),\n",
       " (28.0, 11.92016129032258),\n",
       " (29.0, 9.583972222222224),\n",
       " (30.0, 7.977930107526881),\n",
       " (31.0, 10.626236559139784),\n",
       " (32.0, 9.614694444444444),\n",
       " (33.0, 11.988736559139786),\n",
       " (34.0, 12.01725),\n",
       " (35.0, 11.703763440860216),\n",
       " (36.0, 10.546559139784948),\n",
       " (37.0, 12.305775862068964),\n",
       " (38.0, 11.080188172043014),\n",
       " (39.0, 10.824222222222222),\n",
       " (40.0, 12.160295698924731),\n",
       " (41.0, 10.197055555555556),\n",
       " (42.0, 9.773252688172043),\n",
       " (43.0, 8.748682795698924),\n",
       " (44.0, 9.92152777777778),\n",
       " (45.0, 9.428010752688174),\n",
       " (46.0, 10.832750000000003),\n",
       " (47.0, 11.84118279569892),\n",
       " (48.0, 13.205134408602149),\n",
       " (49.0, 7.790089285714286),\n",
       " (50.0, 11.993602150537633),\n",
       " (51.0, 11.740333333333332),\n",
       " (52.0, 10.026451612903223),\n",
       " (53.0, 9.599194444444445),\n",
       " (54.0, 8.480806451612905),\n",
       " (55.0, 10.345215053763443),\n",
       " (56.0, 9.496277777777777),\n",
       " (57.0, 9.66018817204301),\n",
       " (58.0, 12.387694444444442),\n",
       " (59.0, 11.657688172043011),\n",
       " (60.0, 12.232526881720432),\n",
       " (61.0, 14.237797619047615),\n",
       " (62.0, 12.116989247311826),\n",
       " (63.0, 13.877833333333335),\n",
       " (64.0, 10.783440860215054),\n",
       " (65.0, 8.566),\n",
       " (66.0, 9.388064516129033),\n",
       " (67.0, 8.204166666666667),\n",
       " (68.0, 8.610444444444445),\n",
       " (69.0, 8.80290322580645),\n",
       " (70.0, 11.607361111111114),\n",
       " (71.0, 14.093467741935486),\n",
       " (72.0, 10.573091397849463),\n",
       " (73.0, 13.115535714285715),\n",
       " (74.0, 14.869596774193548),\n",
       " (75.0, 11.012305555555553),\n",
       " (76.0, 10.916048387096774),\n",
       " (77.0, 8.203277777777776),\n",
       " (78.0, 9.315940860215052),\n",
       " (79.0, 8.751236559139784),\n",
       " (80.0, 10.461833333333335),\n",
       " (81.0, 13.587688172043011),\n",
       " (82.0, 9.876388888888888),\n",
       " (83.0, 11.074623655913978),\n",
       " (84.0, 11.72524193548387),\n",
       " (85.0, 8.882586206896551),\n",
       " (86.0, 12.253655913978495),\n",
       " (87.0, 10.317444444444442),\n",
       " (88.0, 8.705698924731182),\n",
       " (89.0, 7.804611111111112),\n",
       " (90.0, 6.356559139784945),\n",
       " (91.0, 7.78774193548387),\n",
       " (92.0, 10.019749999999998),\n",
       " (93.0, 10.451989247311827),\n",
       " (94.0, 12.450222222222221),\n",
       " (95.0, 10.257688172043007),\n",
       " (96.0, 10.504516129032261),\n",
       " (97.0, 11.185357142857141),\n",
       " (98.0, 9.381908602150538),\n",
       " (99.0, 9.844583333333334),\n",
       " (100.0, 7.601720430107528),\n",
       " (101.0, 7.9655),\n",
       " (102.0, 9.079919354838708),\n",
       " (103.0, 8.885456989247311),\n",
       " (104.0, 8.07788888888889),\n",
       " (105.0, 10.339112903225804),\n",
       " (106.0, 10.643277777777778),\n",
       " (107.0, 10.57002688172043),\n",
       " (108.0, 10.469596774193546),\n",
       " (109.0, 11.728869047619046),\n",
       " (110.0, 11.988763440860215),\n",
       " (111.0, 11.415944444444445),\n",
       " (112.0, 9.860483870967741),\n",
       " (113.0, 8.296000000000001),\n",
       " (114.0, 10.42274193548387),\n",
       " (115.0, 7.733897849462367),\n",
       " (116.0, 10.37375),\n",
       " (117.0, 11.621666666666664),\n",
       " (118.0, 10.943083333333332),\n",
       " (119.0, 9.88182795698925),\n",
       " (120.0, 11.174059139784948),\n",
       " (121.0, 9.401428571428571),\n",
       " (122.0, 9.132956989247312),\n",
       " (123.0, 7.809916666666666),\n",
       " (124.0, 8.42008064516129),\n",
       " (125.0, 8.859722222222222),\n",
       " (126.0, 6.59994623655914),\n",
       " (127.0, 7.660806451612903),\n",
       " (128.0, 6.7758611111111104),\n",
       " (129.0, 11.042688172043011),\n",
       " (130.0, 11.17513888888889),\n",
       " (131.0, 11.66677419354839),\n",
       " (132.0, 10.802661290322582),\n",
       " (133.0, 10.655603448275864),\n",
       " (134.0, 10.168548387096777),\n",
       " (135.0, 10.806305555555555),\n",
       " (136.0, 12.01752688172043),\n",
       " (137.0, 9.932611111111111),\n",
       " (138.0, 6.952016129032258),\n",
       " (139.0, 7.608521505376346),\n",
       " (140.0, 6.79436111111111),\n",
       " (141.0, 9.009086021505377),\n",
       " (142.0, 10.131861111111112),\n",
       " (143.0, 12.939596774193548),\n",
       " (144.0, 10.005913978494622),\n",
       " (145.0, 11.463452380952381),\n",
       " (146.0, 9.665887096774194),\n",
       " (147.0, 11.263472222222221),\n",
       " (148.0, 10.406532258064518),\n",
       " (149.0, 8.757611111111112),\n",
       " (150.0, 7.607876344086021),\n",
       " (151.0, 7.420806451612903),\n",
       " (152.0, 8.95811111111111),\n",
       " (153.0, 8.641639784946236),\n",
       " (154.0, 9.732750000000001),\n",
       " (155.0, 10.967956989247314),\n",
       " (156.0, 16.251827956989246),\n",
       " (157.0, 10.518482142857142),\n",
       " (158.0, 9.584543010752688),\n",
       " (159.0, 7.189861111111113),\n",
       " (160.0, 10.815860215053764),\n",
       " (161.0, 9.127194444444445),\n",
       " (162.0, 10.048360215053764),\n",
       " (163.0, 9.025107526881719),\n",
       " (164.0, 10.467833333333335),\n",
       " (165.0, 10.446559139784947),\n",
       " (166.0, 10.834333333333335),\n",
       " (167.0, 15.85728494623656),\n",
       " (168.0, 14.011397849462362),\n",
       " (169.0, 9.80827380952381),\n",
       " (170.0, 9.701370967741934),\n",
       " (171.0, 9.896333333333333),\n",
       " (172.0, 7.9490860215053765),\n",
       " (173.0, 7.921499999999999),\n",
       " (174.0, 8.24244623655914),\n",
       " (175.0, 7.073655913978494),\n",
       " (176.0, 10.134777777777778),\n",
       " (177.0, 11.173279569892472),\n",
       " (178.0, 9.457500000000001),\n",
       " (179.0, 9.152930107526881),\n",
       " (180.0, 13.702069892473117),\n",
       " (181.0, 10.531925287356318),\n",
       " (182.0, 12.544677419354837),\n",
       " (183.0, 9.254972222222225),\n",
       " (184.0, 10.260887096774194),\n",
       " (185.0, 8.711722222222221),\n",
       " (186.0, 7.650994623655914),\n",
       " (187.0, 5.78779569892473),\n",
       " (188.0, 9.524416666666665),\n",
       " (189.0, 9.087956989247314),\n",
       " (190.0, 8.748527777777776),\n",
       " (191.0, 8.041451612903225),\n",
       " (192.0, 10.457150537634408),\n",
       " (193.0, 10.589315476190476),\n",
       " (194.0, 13.774112903225804),\n",
       " (195.0, 12.360777777777777),\n",
       " (196.0, 8.018844086021506),\n",
       " (197.0, 8.613416666666664),\n",
       " (198.0, 9.133037634408604),\n",
       " (199.0, 7.643924731182795),\n",
       " (200.0, 10.608416666666669),\n",
       " (201.0, 12.841209677419354),\n",
       " (202.0, 13.359805555555555),\n",
       " (203.0, 12.046908602150538),\n",
       " (204.0, 11.715752688172042),\n",
       " (205.0, 11.229613095238095),\n",
       " (206.0, 12.592499999999998),\n",
       " (207.0, 9.732388888888888),\n",
       " (208.0, 6.7336559139784935),\n",
       " (209.0, 9.42775),\n",
       " (210.0, 9.676263440860215),\n",
       " (211.0, 7.592499999999999),\n",
       " (212.0, 11.022694444444443),\n",
       " (213.0, 9.233897849462368),\n",
       " (214.0, 12.721027777777778),\n",
       " (215.0, 12.7035752688172)]"
      ]
     },
     "execution_count": 44,
     "metadata": {},
     "output_type": "execute_result"
    }
   ],
   "source": [
    "unique_months = np.unique(months)  # All unique month indices\n",
    "monthly_means = []\n",
    "\n",
    "for m in unique_months:\n",
    "    mask = months == m  # Boolean mask for the current month\n",
    "    winds_for_month = daily_means[mask]  # Windspeeds for the current month\n",
    "    mean_wind = winds_for_month.mean()  # Calculate the mean for this month\n",
    "    monthly_means.append((m, mean_wind))\n",
    "\n",
    "monthly_means"
   ]
  }
 ],
 "metadata": {
  "kernelspec": {
   "display_name": "Python 3",
   "language": "python",
   "name": "python3"
  },
  "language_info": {
   "codemirror_mode": {
    "name": "ipython",
    "version": 3
   },
   "file_extension": ".py",
   "mimetype": "text/x-python",
   "name": "python",
   "nbconvert_exporter": "python",
   "pygments_lexer": "ipython3",
   "version": "3.11.5"
  }
 },
 "nbformat": 4,
 "nbformat_minor": 5
}
