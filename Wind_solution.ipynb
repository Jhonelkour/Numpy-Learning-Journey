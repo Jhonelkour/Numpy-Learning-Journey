{
 "cells": [
  {
   "cell_type": "code",
   "execution_count": 41,
   "id": "5e863af8",
   "metadata": {},
   "outputs": [],
   "source": [
    "import numpy as np\n",
    "from numpy import loadtxt\n"
   ]
  },
  {
   "cell_type": "code",
   "execution_count": 42,
   "id": "4aa76b85",
   "metadata": {},
   "outputs": [],
   "source": [
    "data_wind = loadtxt('./wind_statistics/wind.data')"
   ]
  },
  {
   "cell_type": "code",
   "execution_count": 43,
   "id": "c908904d",
   "metadata": {},
   "outputs": [
    {
     "data": {
      "text/plain": [
       "array([[61.  ,  1.  ,  1.  , ..., 12.58, 18.5 , 15.04],\n",
       "       [61.  ,  1.  ,  2.  , ...,  9.67, 17.54, 13.83],\n",
       "       [61.  ,  1.  ,  3.  , ...,  7.67, 12.75, 12.71],\n",
       "       ...,\n",
       "       [78.  , 12.  , 29.  , ..., 16.42, 18.88, 29.58],\n",
       "       [78.  , 12.  , 30.  , ..., 12.12, 14.67, 28.79],\n",
       "       [78.  , 12.  , 31.  , ..., 11.38, 12.08, 22.08]])"
      ]
     },
     "execution_count": 43,
     "metadata": {},
     "output_type": "execute_result"
    }
   ],
   "source": [
    "data_wind"
   ]
  },
  {
   "cell_type": "markdown",
   "id": "cf9b132a",
   "metadata": {},
   "source": [
    "##### The first three columns are year, month and day.  The remaining 12 columns are average windspeeds in knots at 12 locations in Ireland on tha day."
   ]
  },
  {
   "cell_type": "code",
   "execution_count": 44,
   "id": "cf0d9636",
   "metadata": {},
   "outputs": [
    {
     "data": {
      "text/plain": [
       "array([[15.04, 14.96, 13.17, ..., 12.58, 18.5 , 15.04],\n",
       "       [14.71, 16.88, 10.83, ...,  9.67, 17.54, 13.83],\n",
       "       [18.5 , 16.88, 12.33, ...,  7.67, 12.75, 12.71],\n",
       "       ...,\n",
       "       [14.  , 10.29, 14.42, ..., 16.42, 18.88, 29.58],\n",
       "       [18.5 , 14.04, 21.29, ..., 12.12, 14.67, 28.79],\n",
       "       [20.33, 17.41, 27.29, ..., 11.38, 12.08, 22.08]])"
      ]
     },
     "execution_count": 44,
     "metadata": {},
     "output_type": "execute_result"
    }
   ],
   "source": [
    "data = data_wind[: , 3:]\n",
    "data"
   ]
  },
  {
   "cell_type": "markdown",
   "id": "09a3a2b2",
   "metadata": {},
   "source": [
    "#### 2. Calculate the min, max and mean windspeeds and standard deviation of the windspeeds over all the locations and all the times (a single set of numbers for the entire dataset)."
   ]
  },
  {
   "cell_type": "code",
   "execution_count": 45,
   "id": "19d36d10",
   "metadata": {},
   "outputs": [
    {
     "data": {
      "text/plain": [
       "0.0"
      ]
     },
     "execution_count": 45,
     "metadata": {},
     "output_type": "execute_result"
    }
   ],
   "source": [
    "min = data.min()\n",
    "min\n"
   ]
  },
  {
   "cell_type": "code",
   "execution_count": 46,
   "id": "e7158bbd",
   "metadata": {},
   "outputs": [
    {
     "data": {
      "text/plain": [
       "42.54"
      ]
     },
     "execution_count": 46,
     "metadata": {},
     "output_type": "execute_result"
    }
   ],
   "source": [
    "max = data.max()\n",
    "max"
   ]
  },
  {
   "cell_type": "code",
   "execution_count": 47,
   "id": "961ef341",
   "metadata": {},
   "outputs": [
    {
     "data": {
      "text/plain": [
       "10.22837377040868"
      ]
     },
     "execution_count": 47,
     "metadata": {},
     "output_type": "execute_result"
    }
   ],
   "source": [
    "mean = data.mean()\n",
    "mean"
   ]
  },
  {
   "cell_type": "code",
   "execution_count": 48,
   "id": "cfcab213",
   "metadata": {},
   "outputs": [
    {
     "data": {
      "text/plain": [
       "5.603840181095793"
      ]
     },
     "execution_count": 48,
     "metadata": {},
     "output_type": "execute_result"
    }
   ],
   "source": [
    "Standard_div = data.std()\n",
    "Standard_div"
   ]
  },
  {
   "cell_type": "markdown",
   "id": "a8cbcee8",
   "metadata": {},
   "source": [
    "#### 3. Calculate the min, max and mean windspeeds and standard deviations of the windspeeds at each location over all the days (a different set of numbers for each location)"
   ]
  },
  {
   "cell_type": "code",
   "execution_count": 49,
   "id": "c1b6dcb1",
   "metadata": {},
   "outputs": [
    {
     "data": {
      "text/plain": [
       "array([0.67, 0.21, 1.5 , 0.  , 0.13, 0.  , 0.  , 0.  , 0.  , 0.04, 0.13,\n",
       "       0.67])"
      ]
     },
     "execution_count": 49,
     "metadata": {},
     "output_type": "execute_result"
    }
   ],
   "source": [
    "min = data.min(axis= 0)\n",
    "min"
   ]
  },
  {
   "cell_type": "code",
   "execution_count": 50,
   "id": "89be0080",
   "metadata": {},
   "outputs": [
    {
     "data": {
      "text/plain": [
       "array([35.8 , 33.37, 33.84, 28.46, 37.54, 26.16, 30.37, 31.08, 25.88,\n",
       "       28.21, 42.38, 42.54])"
      ]
     },
     "execution_count": 50,
     "metadata": {},
     "output_type": "execute_result"
    }
   ],
   "source": [
    "max = data.max(axis= 0)\n",
    "max"
   ]
  },
  {
   "cell_type": "code",
   "execution_count": 51,
   "id": "cc7a0959",
   "metadata": {},
   "outputs": [
    {
     "data": {
      "text/plain": [
       "array([12.36371463, 10.64644813, 11.66010344,  6.30627472, 10.45688013,\n",
       "        7.09225434,  9.7968345 ,  8.49442044,  8.49581838,  8.70726803,\n",
       "       13.121007  , 15.59946152])"
      ]
     },
     "execution_count": 51,
     "metadata": {},
     "output_type": "execute_result"
    }
   ],
   "source": [
    "mean = data.mean(axis= 0)\n",
    "mean"
   ]
  },
  {
   "cell_type": "code",
   "execution_count": 52,
   "id": "51fbded4",
   "metadata": {},
   "outputs": [
    {
     "data": {
      "text/plain": [
       "array([5.61918301, 5.26820081, 5.00738377, 3.60513309, 4.93536333,\n",
       "       3.96838126, 4.97689374, 4.49865783, 4.16746101, 4.50327222,\n",
       "       5.83459319, 6.69734719])"
      ]
     },
     "execution_count": 52,
     "metadata": {},
     "output_type": "execute_result"
    }
   ],
   "source": [
    "standard_div = data.std(axis = 0)\n",
    "standard_div"
   ]
  },
  {
   "cell_type": "markdown",
   "id": "6c89de9c",
   "metadata": {},
   "source": [
    "#### 4. Calculate the min, max and mean windspeed and standard deviations of the windspeeds across all the locations at each day (a different set of numbers for each day)"
   ]
  },
  {
   "cell_type": "code",
   "execution_count": 53,
   "id": "f75e0926",
   "metadata": {},
   "outputs": [
    {
     "data": {
      "text/plain": [
       "array([9.29, 6.5 , 6.17, ..., 8.71, 9.13, 9.59])"
      ]
     },
     "execution_count": 53,
     "metadata": {},
     "output_type": "execute_result"
    }
   ],
   "source": [
    "min = data.min(axis= 1)\n",
    "min"
   ]
  },
  {
   "cell_type": "code",
   "execution_count": 54,
   "id": "da00d9e8",
   "metadata": {},
   "outputs": [
    {
     "data": {
      "text/plain": [
       "array([18.5 , 17.54, 18.5 , ..., 29.58, 28.79, 27.29])"
      ]
     },
     "execution_count": 54,
     "metadata": {},
     "output_type": "execute_result"
    }
   ],
   "source": [
    "max = data.max(axis = 1)\n",
    "max"
   ]
  },
  {
   "cell_type": "code",
   "execution_count": 55,
   "id": "819bc422",
   "metadata": {},
   "outputs": [
    {
     "data": {
      "text/plain": [
       "array([13.09666667, 11.79833333, 11.34166667, ..., 14.89      ,\n",
       "       15.3675    , 15.4025    ])"
      ]
     },
     "execution_count": 55,
     "metadata": {},
     "output_type": "execute_result"
    }
   ],
   "source": [
    "mean = data.mean(axis = 1)\n",
    "mean"
   ]
  },
  {
   "cell_type": "code",
   "execution_count": 56,
   "id": "42680de8",
   "metadata": {},
   "outputs": [
    {
     "data": {
      "text/plain": [
       "array([2.5773188 , 3.28972854, 3.50543348, ..., 5.51175108, 5.30456427,\n",
       "       5.45971172])"
      ]
     },
     "execution_count": 56,
     "metadata": {},
     "output_type": "execute_result"
    }
   ],
   "source": [
    "standard_div = data.std(axis= 1)\n",
    "standard_div"
   ]
  },
  {
   "cell_type": "markdown",
   "id": "5611b7be",
   "metadata": {},
   "source": [
    "#### 5. Find the location which has the greatest windspeed on each day (an integer column number for each day)."
   ]
  },
  {
   "cell_type": "code",
   "execution_count": 57,
   "id": "20a53c42",
   "metadata": {},
   "outputs": [
    {
     "data": {
      "text/plain": [
       "array([10, 10,  0, ..., 11, 11,  2], dtype=int64)"
      ]
     },
     "execution_count": 57,
     "metadata": {},
     "output_type": "execute_result"
    }
   ],
   "source": [
    "greatest_windspeed = data.argmax(axis= 1)\n",
    "greatest_windspeed"
   ]
  },
  {
   "cell_type": "markdown",
   "id": "025c2521",
   "metadata": {},
   "source": [
    "#### 6. Find the year, month and day on which the greatest windspeed was recorded.\n"
   ]
  },
  {
   "cell_type": "code",
   "execution_count": 58,
   "id": "677872c2",
   "metadata": {},
   "outputs": [],
   "source": [
    "daily_max = data.max(axis=1)\n",
    "max_row = daily_max.argmax()\n",
    "max_row, max_col = np.unravel_index(data.argmax(), data.shape)\n",
    "max_row, max_col = where(data == data.max())\n",
    "\n"
   ]
  },
  {
   "cell_type": "code",
   "execution_count": 59,
   "id": "2b3b636d",
   "metadata": {},
   "outputs": [
    {
     "data": {
      "text/plain": [
       "array([66.])"
      ]
     },
     "execution_count": 59,
     "metadata": {},
     "output_type": "execute_result"
    }
   ],
   "source": [
    "year = data_wind[max_row,0]\n",
    "year"
   ]
  },
  {
   "cell_type": "code",
   "execution_count": 61,
   "id": "d6c1029c",
   "metadata": {},
   "outputs": [
    {
     "data": {
      "text/plain": [
       "array([12.])"
      ]
     },
     "execution_count": 61,
     "metadata": {},
     "output_type": "execute_result"
    }
   ],
   "source": [
    "month = data_wind[max_row,1]\n",
    "month"
   ]
  },
  {
   "cell_type": "code",
   "execution_count": 64,
   "id": "b4c72b2e",
   "metadata": {},
   "outputs": [
    {
     "data": {
      "text/plain": [
       "array([2.])"
      ]
     },
     "execution_count": 64,
     "metadata": {},
     "output_type": "execute_result"
    }
   ],
   "source": [
    "day = data_wind[max_row, 2]\n",
    "day "
   ]
  },
  {
   "cell_type": "markdown",
   "id": "238e0289",
   "metadata": {},
   "source": [
    "#### 7. Find the average windspeed in January for each location.\n"
   ]
  },
  {
   "cell_type": "code",
   "execution_count": 66,
   "id": "a1201b3f",
   "metadata": {},
   "outputs": [
    {
     "data": {
      "text/plain": [
       "array([ True,  True,  True, ..., False, False, False])"
      ]
     },
     "execution_count": 66,
     "metadata": {},
     "output_type": "execute_result"
    }
   ],
   "source": [
    "January_ind = data_wind[:, 1] == 1\n",
    "January_ind"
   ]
  },
  {
   "cell_type": "code",
   "execution_count": 68,
   "id": "eea7193b",
   "metadata": {},
   "outputs": [
    {
     "data": {
      "text/plain": [
       "array([[15.04, 14.96, 13.17, ..., 12.58, 18.5 , 15.04],\n",
       "       [14.71, 16.88, 10.83, ...,  9.67, 17.54, 13.83],\n",
       "       [18.5 , 16.88, 12.33, ...,  7.67, 12.75, 12.71],\n",
       "       ...,\n",
       "       [29.38, 18.54, 28.08, ..., 20.5 , 19.12, 38.2 ],\n",
       "       [ 9.62,  8.71,  9.59, ...,  4.46, 10.41, 12.83],\n",
       "       [10.5 ,  8.79,  9.54, ...,  6.38,  6.54, 17.37]])"
      ]
     },
     "execution_count": 68,
     "metadata": {},
     "output_type": "execute_result"
    }
   ],
   "source": [
    "January_data = data[January_ind]\n",
    "January_data"
   ]
  },
  {
   "cell_type": "code",
   "execution_count": 70,
   "id": "8cb2c36a",
   "metadata": {},
   "outputs": [
    {
     "data": {
      "text/plain": [
       "11.793809737156511"
      ]
     },
     "execution_count": 70,
     "metadata": {},
     "output_type": "execute_result"
    }
   ],
   "source": [
    "mean_january = January_data.mean()\n",
    "mean_january"
   ]
  }
 ],
 "metadata": {
  "kernelspec": {
   "display_name": "Python 3",
   "language": "python",
   "name": "python3"
  },
  "language_info": {
   "codemirror_mode": {
    "name": "ipython",
    "version": 3
   },
   "file_extension": ".py",
   "mimetype": "text/x-python",
   "name": "python",
   "nbconvert_exporter": "python",
   "pygments_lexer": "ipython3",
   "version": "3.11.5"
  }
 },
 "nbformat": 4,
 "nbformat_minor": 5
}
